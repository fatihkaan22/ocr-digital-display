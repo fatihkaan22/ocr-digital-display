{
  "nbformat": 4,
  "nbformat_minor": 0,
  "metadata": {
    "colab": {
      "provenance": []
    },
    "kernelspec": {
      "name": "python3",
      "display_name": "Python 3"
    },
    "language_info": {
      "name": "python"
    }
  },
  "cells": [
    {
      "cell_type": "code",
      "source": [
        "from tqdm import tqdm\n",
        "import os\n",
        "from toolz.curried import *\n",
        "import requests"
      ],
      "metadata": {
        "id": "7FgBZNVam_Xx"
      },
      "execution_count": 8,
      "outputs": []
    },
    {
      "cell_type": "code",
      "source": [
        "from google.colab import drive\n",
        "MOUNT_POINT = '/content/drive'\n",
        "drive.mount(MOUNT_POINT, force_remount=True)\n",
        "TENSORFLOW = os.path.join(MOUNT_POINT,'MyDrive','cse496','Tensorflow')\n",
        "NOTEBOOK_WS = os.path.join(TENSORFLOW,'workspace','energy-meter-display')\n",
        "     "
      ],
      "metadata": {
        "colab": {
          "base_uri": "https://localhost:8080/"
        },
        "id": "47ExAAlIng0s",
        "outputId": "ac2f2c7a-728a-49a2-ca8d-6dde793f0dc9"
      },
      "execution_count": 9,
      "outputs": [
        {
          "output_type": "stream",
          "name": "stdout",
          "text": [
            "Mounted at /content/drive\n"
          ]
        }
      ]
    },
    {
      "cell_type": "code",
      "source": [
        "paths = {\n",
        "  'workspace': os.path.join(NOTEBOOK_WS),\n",
        "  'dataset': os.path.join(NOTEBOOK_WS,'dataset'), \n",
        "  'labelmap': os.path.join(NOTEBOOK_WS,'annotations','label_map.pbtxt'),\n",
        "  'annotations': os.path.join(NOTEBOOK_WS,'annotations'),\n",
        "  'train_record': os.path.join(NOTEBOOK_WS,'annotations','train.record'),\n",
        "  'test_record': os.path.join(NOTEBOOK_WS,'annotations','test.record'),\n",
        "  'scripts': os.path.join(TENSORFLOW,'scripts'),\n",
        "}"
      ],
      "metadata": {
        "id": "-HF-RbZPoJ5Y"
      },
      "execution_count": 10,
      "outputs": []
    },
    {
      "cell_type": "markdown",
      "source": [
        "Data for: Text detection and Recognition in Raw Image Dataset of Seven Segment Digital Energy Meter Display\n",
        "\n",
        "https://data.mendeley.com/datasets/fnn44p4mj8"
      ],
      "metadata": {
        "id": "Dksk7ktEeFpX"
      }
    },
    {
      "cell_type": "code",
      "source": [
        "! wget -O ds.json https://prod-dcd-datasets-public-files-eu-west-1.s3.eu-west-1.amazonaws.com/90f7466f-3457-41a2-855b-fc7a559b705c"
      ],
      "metadata": {
        "colab": {
          "base_uri": "https://localhost:8080/"
        },
        "id": "hYAjEM4Ed6Ho",
        "outputId": "b4e787ed-25be-4e25-d5bb-5e92b1263fe0"
      },
      "execution_count": 8,
      "outputs": [
        {
          "output_type": "stream",
          "name": "stdout",
          "text": [
            "--2022-12-04 20:26:53--  https://prod-dcd-datasets-public-files-eu-west-1.s3.eu-west-1.amazonaws.com/90f7466f-3457-41a2-855b-fc7a559b705c\n",
            "Resolving prod-dcd-datasets-public-files-eu-west-1.s3.eu-west-1.amazonaws.com (prod-dcd-datasets-public-files-eu-west-1.s3.eu-west-1.amazonaws.com)... 52.218.65.35, 52.218.62.120, 52.218.57.16, ...\n",
            "Connecting to prod-dcd-datasets-public-files-eu-west-1.s3.eu-west-1.amazonaws.com (prod-dcd-datasets-public-files-eu-west-1.s3.eu-west-1.amazonaws.com)|52.218.65.35|:443... connected.\n",
            "HTTP request sent, awaiting response... 200 OK\n",
            "Length: 322934 (315K) [application/json]\n",
            "Saving to: ‘ds.json’\n",
            "\n",
            "ds.json             100%[===================>] 315.37K   805KB/s    in 0.4s    \n",
            "\n",
            "2022-12-04 20:26:54 (805 KB/s) - ‘ds.json’ saved [322934/322934]\n",
            "\n"
          ]
        }
      ]
    },
    {
      "cell_type": "code",
      "source": [
        "!pip install --upgrade numpy\n"
      ],
      "metadata": {
        "id": "CfwyDW6NkUra",
        "outputId": "31b17dda-5e8c-4e7a-b183-3ca35eb74b03",
        "colab": {
          "base_uri": "https://localhost:8080/",
          "height": 357
        }
      },
      "execution_count": 6,
      "outputs": [
        {
          "output_type": "stream",
          "name": "stdout",
          "text": [
            "Looking in indexes: https://pypi.org/simple, https://us-python.pkg.dev/colab-wheels/public/simple/\n",
            "Requirement already satisfied: numpy in /usr/local/lib/python3.8/dist-packages (1.21.6)\n",
            "Collecting numpy\n",
            "  Downloading numpy-1.23.5-cp38-cp38-manylinux_2_17_x86_64.manylinux2014_x86_64.whl (17.1 MB)\n",
            "\u001b[K     |████████████████████████████████| 17.1 MB 5.1 MB/s \n",
            "\u001b[?25hInstalling collected packages: numpy\n",
            "  Attempting uninstall: numpy\n",
            "    Found existing installation: numpy 1.21.6\n",
            "    Uninstalling numpy-1.21.6:\n",
            "      Successfully uninstalled numpy-1.21.6\n",
            "\u001b[31mERROR: pip's dependency resolver does not currently take into account all the packages that are installed. This behaviour is the source of the following dependency conflicts.\n",
            "scipy 1.7.3 requires numpy<1.23.0,>=1.16.5, but you have numpy 1.23.5 which is incompatible.\u001b[0m\n",
            "Successfully installed numpy-1.23.5\n"
          ]
        },
        {
          "output_type": "display_data",
          "data": {
            "application/vnd.colab-display-data+json": {
              "pip_warning": {
                "packages": [
                  "numpy"
                ]
              }
            }
          },
          "metadata": {}
        }
      ]
    },
    {
      "cell_type": "code",
      "source": [
        "from pathlib import Path\n",
        "from pycocotools.coco import COCO\n",
        "import matplotlib.pyplot as plt\n",
        "import skimage.io as io\n",
        "import pandas as pd \n"
      ],
      "metadata": {
        "colab": {
          "base_uri": "https://localhost:8080/"
        },
        "id": "h8FtuuQdjzFJ",
        "outputId": "2a6da0b8-9c31-4ee7-9378-aad6323302ac"
      },
      "execution_count": 1,
      "outputs": [
        {
          "output_type": "stream",
          "name": "stderr",
          "text": [
            "/usr/local/lib/python3.8/dist-packages/scipy/__init__.py:146: UserWarning: A NumPy version >=1.16.5 and <1.23.0 is required for this version of SciPy (detected version 1.23.5\n",
            "  warnings.warn(f\"A NumPy version >={np_minversion} and <{np_maxversion}\"\n"
          ]
        }
      ]
    },
    {
      "cell_type": "code",
      "source": [
        "coco = COCO(Path('/content/ds.json'))\n",
        "img_ids = coco.getImgIds()\n",
        "imgs = coco.loadImgs(img_ids)"
      ],
      "metadata": {
        "colab": {
          "base_uri": "https://localhost:8080/"
        },
        "id": "92DEUfR-jmId",
        "outputId": "419c1f59-f572-462d-d885-54962b1f4891"
      },
      "execution_count": 2,
      "outputs": [
        {
          "output_type": "stream",
          "name": "stdout",
          "text": [
            "loading annotations into memory...\n",
            "Done (t=0.01s)\n",
            "creating index...\n",
            "index created!\n"
          ]
        }
      ]
    },
    {
      "cell_type": "code",
      "source": [
        "import xml.etree.cElementTree as ET\n",
        "from xml.dom import minidom\n",
        "\n",
        "def prettify(elem):\n",
        "    rough_string = ET.tostring(elem, 'utf-8')\n",
        "    reparsed = minidom.parseString(rough_string)\n",
        "    return reparsed.toprettyxml(indent=\"  \")\n",
        "\n",
        "def generate_xml_annotation(filename, im_width, im_height, bboxes):\n",
        "    try:\n",
        "        annotation = ET.Element('annotation')\n",
        "        ET.SubElement(annotation, 'filename').text = filename\n",
        "        size = ET.SubElement(annotation, 'size')\n",
        "        ET.SubElement(size, 'width').text = str(im_width)\n",
        "        ET.SubElement(size, 'height').text = str(im_height)\n",
        "        ET.SubElement(size, 'depth').text = '3'\n",
        "\n",
        "        strint = lambda x: str(int(x))\n",
        "\n",
        "        for index, box in enumerate(bboxes):\n",
        "            objectBox = ET.SubElement(annotation, 'object')\n",
        "            ET.SubElement(objectBox, 'name').text = box['name']\n",
        "            ET.SubElement(objectBox, 'pose').text = 'Unspecified'\n",
        "            ET.SubElement(objectBox, 'truncated').text = '0'\n",
        "            ET.SubElement(objectBox, 'difficult').text = '0'\n",
        "            bndBox = ET.SubElement(objectBox, 'bndbox')\n",
        "            ET.SubElement(bndBox, 'xmin').text = strint(box['xmin'])\n",
        "            ET.SubElement(bndBox, 'ymin').text = strint(box['ymin'])\n",
        "            ET.SubElement(bndBox, 'xmax').text = strint(box['xmax'])\n",
        "            ET.SubElement(bndBox, 'ymax').text = strint(box['ymax'])\n",
        "\n",
        "        et = ET.ElementTree(annotation)\n",
        "        return prettify(annotation)\n",
        "    except Exception as e:\n",
        "        print('Error to generate the XML for image {}'.format(filename))\n",
        "        print(e)"
      ],
      "metadata": {
        "id": "qzVwFjp7m1Xp"
      },
      "execution_count": 3,
      "outputs": []
    },
    {
      "cell_type": "code",
      "source": [
        "def save_image(url, path):\n",
        "  img_data = requests.get(url).content\n",
        "  with open(path, 'wb') as handler:\n",
        "    handler.write(img_data)"
      ],
      "metadata": {
        "id": "C0YiCOcBEOgZ"
      },
      "execution_count": 4,
      "outputs": []
    },
    {
      "cell_type": "code",
      "source": [
        "save_path = paths['dataset']\n",
        "\n",
        "for img in tqdm(imgs):\n",
        "  filepath = pipe(\n",
        "      img['file_name'],\n",
        "      os.path.basename, \n",
        "      os.path.splitext,\n",
        "      first,\n",
        "      lambda x: os.path.join(save_path, x)\n",
        "  )\n",
        "  save_image(img['file_name'], f'{filepath}.jpg'),\n",
        "  xml_string = pipe(\n",
        "    img['id'],\n",
        "    lambda id: coco.getAnnIds(imgIds=[id]),\n",
        "    coco.loadAnns,\n",
        "    map(lambda annot: {\n",
        "        'name': str(annot['category_id']),\n",
        "        'xmin': annot['bbox'][0], # [x, y ,w ,h]\n",
        "        'ymin': annot['bbox'][1],\n",
        "        'xmax': annot['bbox'][0]+annot['bbox'][2],\n",
        "        'ymax': annot['bbox'][1]+annot['bbox'][3],\n",
        "    }),\n",
        "    lambda bboxes: generate_xml_annotation(\n",
        "      f'{filepath}.jpg', \n",
        "      img['width'],\n",
        "      img['height'],\n",
        "      list(bboxes)\n",
        "    )\n",
        "  )\n",
        "  with open(f'{filepath}.xml', 'w') as file:\n",
        "    file.write(xml_string)"
      ],
      "metadata": {
        "colab": {
          "base_uri": "https://localhost:8080/"
        },
        "id": "8V_gBt4K1ZBH",
        "outputId": "043807fe-7f6a-4acc-8dc9-f9e7cc312d54"
      },
      "execution_count": 11,
      "outputs": [
        {
          "output_type": "stream",
          "name": "stderr",
          "text": [
            "100%|██████████| 168/168 [00:32<00:00,  5.16it/s]\n"
          ]
        }
      ]
    }
  ]
}