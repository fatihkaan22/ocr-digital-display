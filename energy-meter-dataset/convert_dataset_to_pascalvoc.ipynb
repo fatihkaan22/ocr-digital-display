{
  "nbformat": 4,
  "nbformat_minor": 0,
  "metadata": {
    "colab": {
      "provenance": []
    },
    "kernelspec": {
      "name": "python3",
      "display_name": "Python 3"
    },
    "language_info": {
      "name": "python"
    }
  },
  "cells": [
    {
      "cell_type": "code",
      "source": [
        "from tqdm import tqdm\n",
        "import os\n",
        "from toolz.curried import *\n",
        "import requests"
      ],
      "metadata": {
        "id": "7FgBZNVam_Xx"
      },
      "execution_count": 53,
      "outputs": []
    },
    {
      "cell_type": "code",
      "source": [
        "from google.colab import drive\n",
        "MOUNT_POINT = '/content/drive'\n",
        "drive.mount(MOUNT_POINT, force_remount=True)\n",
        "TENSORFLOW = os.path.join(MOUNT_POINT,'MyDrive','cse496','Tensorflow')\n",
        "NOTEBOOK_WS = os.path.join(TENSORFLOW,'workspace','energy-meter-display')\n",
        "     "
      ],
      "metadata": {
        "colab": {
          "base_uri": "https://localhost:8080/"
        },
        "id": "47ExAAlIng0s",
        "outputId": "68c5eadb-2399-4187-c1e9-e7deac722b77"
      },
      "execution_count": 16,
      "outputs": [
        {
          "output_type": "stream",
          "name": "stdout",
          "text": [
            "Mounted at /content/drive\n"
          ]
        }
      ]
    },
    {
      "cell_type": "code",
      "source": [
        "paths = {\n",
        "  'workspace': os.path.join(NOTEBOOK_WS),\n",
        "  'dataset': os.path.join(NOTEBOOK_WS,'dataset'), \n",
        "  'labelmap': os.path.join(NOTEBOOK_WS,'annotations','label_map.pbtxt'),\n",
        "  'annotations': os.path.join(NOTEBOOK_WS,'annotations'),\n",
        "  'train_record': os.path.join(NOTEBOOK_WS,'annotations','train.record'),\n",
        "  'test_record': os.path.join(NOTEBOOK_WS,'annotations','test.record'),\n",
        "  'scripts': os.path.join(TENSORFLOW,'scripts'),\n",
        "}"
      ],
      "metadata": {
        "id": "-HF-RbZPoJ5Y"
      },
      "execution_count": 52,
      "outputs": []
    },
    {
      "cell_type": "markdown",
      "source": [
        "Data for: Text detection and Recognition in Raw Image Dataset of Seven Segment Digital Energy Meter Display\n",
        "\n",
        "https://data.mendeley.com/datasets/fnn44p4mj8"
      ],
      "metadata": {
        "id": "Dksk7ktEeFpX"
      }
    },
    {
      "cell_type": "code",
      "source": [
        "! wget -O dataset.zip https://prod-dcd-datasets-cache-zipfiles.s3.eu-west-1.amazonaws.com/fnn44p4mj8-1.zip"
      ],
      "metadata": {
        "colab": {
          "base_uri": "https://localhost:8080/"
        },
        "id": "hYAjEM4Ed6Ho",
        "outputId": "925b5c38-d2a9-4abd-96a0-7b38bff45c6e"
      },
      "execution_count": 10,
      "outputs": [
        {
          "output_type": "stream",
          "name": "stdout",
          "text": [
            "--2022-12-04 14:14:01--  https://prod-dcd-datasets-cache-zipfiles.s3.eu-west-1.amazonaws.com/fnn44p4mj8-1.zip\n",
            "Resolving prod-dcd-datasets-cache-zipfiles.s3.eu-west-1.amazonaws.com (prod-dcd-datasets-cache-zipfiles.s3.eu-west-1.amazonaws.com)... 52.218.61.184, 52.92.17.90, 52.218.44.170, ...\n",
            "Connecting to prod-dcd-datasets-cache-zipfiles.s3.eu-west-1.amazonaws.com (prod-dcd-datasets-cache-zipfiles.s3.eu-west-1.amazonaws.com)|52.218.61.184|:443... connected.\n",
            "HTTP request sent, awaiting response... 200 OK\n",
            "Length: 104185996 (99M) [application/octet-stream]\n",
            "Saving to: ‘dataset.zip’\n",
            "\n",
            "dataset.zip         100%[===================>]  99.36M  27.6MB/s    in 4.1s    \n",
            "\n",
            "2022-12-04 14:14:06 (24.0 MB/s) - ‘dataset.zip’ saved [104185996/104185996]\n",
            "\n"
          ]
        }
      ]
    },
    {
      "cell_type": "code",
      "source": [
        "! unzip /content/dataset.zip"
      ],
      "metadata": {
        "colab": {
          "base_uri": "https://localhost:8080/"
        },
        "id": "1REk9Dm1eqoV",
        "outputId": "54d9acb7-9811-452f-ec06-23f335414d76"
      },
      "execution_count": 11,
      "outputs": [
        {
          "output_type": "stream",
          "name": "stdout",
          "text": [
            "Archive:  /content/dataset.zip\n",
            "  inflating: RAW IMAGES.zip          \n",
            "  inflating: export-coco-2019-06-11T14_40_00.348423.json  \n"
          ]
        }
      ]
    },
    {
      "cell_type": "code",
      "source": [
        "!pip install --upgrade numpy\n"
      ],
      "metadata": {
        "id": "CfwyDW6NkUra"
      },
      "execution_count": null,
      "outputs": []
    },
    {
      "cell_type": "code",
      "source": [
        "from pathlib import Path\n",
        "from pycocotools.coco import COCO\n",
        "import matplotlib.pyplot as plt\n",
        "import skimage.io as io\n",
        "import pandas as pd \n"
      ],
      "metadata": {
        "colab": {
          "base_uri": "https://localhost:8080/"
        },
        "id": "h8FtuuQdjzFJ",
        "outputId": "34dc2257-8a62-4de4-f03d-a6db33367062"
      },
      "execution_count": 6,
      "outputs": [
        {
          "output_type": "stream",
          "name": "stderr",
          "text": [
            "/usr/local/lib/python3.8/dist-packages/scipy/__init__.py:146: UserWarning: A NumPy version >=1.16.5 and <1.23.0 is required for this version of SciPy (detected version 1.23.5\n",
            "  warnings.warn(f\"A NumPy version >={np_minversion} and <{np_maxversion}\"\n"
          ]
        }
      ]
    },
    {
      "cell_type": "code",
      "source": [
        "coco = COCO(Path('/content/export-coco-2019-06-11T14_40_00.348423.json'))\n",
        "img_ids = coco.getImgIds()\n",
        "imgs = coco.loadImgs(img_ids)"
      ],
      "metadata": {
        "colab": {
          "base_uri": "https://localhost:8080/"
        },
        "id": "92DEUfR-jmId",
        "outputId": "2b0803aa-583c-4892-fc93-a96c7afe6b46"
      },
      "execution_count": 131,
      "outputs": [
        {
          "output_type": "stream",
          "name": "stdout",
          "text": [
            "loading annotations into memory...\n",
            "Done (t=0.01s)\n",
            "creating index...\n",
            "index created!\n"
          ]
        }
      ]
    },
    {
      "cell_type": "code",
      "source": [
        "import xml.etree.cElementTree as ET\n",
        "from xml.dom import minidom\n",
        "\n",
        "def prettify(elem):\n",
        "    rough_string = ET.tostring(elem, 'utf-8')\n",
        "    reparsed = minidom.parseString(rough_string)\n",
        "    return reparsed.toprettyxml(indent=\"  \")\n",
        "\n",
        "def generate_xml_annotation(filename, im_width, im_height, bboxes):\n",
        "    try:\n",
        "        annotation = ET.Element('annotation')\n",
        "        ET.SubElement(annotation, 'filename').text = filename\n",
        "        size = ET.SubElement(annotation, 'size')\n",
        "        ET.SubElement(size, 'width').text = str(im_width)\n",
        "        ET.SubElement(size, 'height').text = str(im_height)\n",
        "        ET.SubElement(size, 'depth').text = '3'\n",
        "\n",
        "        strint = lambda x: str(int(x))\n",
        "\n",
        "        for index, box in enumerate(bboxes):\n",
        "            objectBox = ET.SubElement(annotation, 'object')\n",
        "            ET.SubElement(objectBox, 'name').text = box['name']\n",
        "            ET.SubElement(objectBox, 'pose').text = 'Unspecified'\n",
        "            ET.SubElement(objectBox, 'truncated').text = '0'\n",
        "            ET.SubElement(objectBox, 'difficult').text = '0'\n",
        "            bndBox = ET.SubElement(objectBox, 'bndbox')\n",
        "            ET.SubElement(bndBox, 'xmin').text = strint(box['xmin'])\n",
        "            ET.SubElement(bndBox, 'ymin').text = strint(box['ymin'])\n",
        "            ET.SubElement(bndBox, 'xmax').text = strint(box['xmax'])\n",
        "            ET.SubElement(bndBox, 'ymax').text = strint(box['ymax'])\n",
        "\n",
        "        et = ET.ElementTree(annotation)\n",
        "        return prettify(annotation)\n",
        "    except Exception as e:\n",
        "        print('Error to generate the XML for image {}'.format(filename))\n",
        "        print(e)"
      ],
      "metadata": {
        "id": "qzVwFjp7m1Xp"
      },
      "execution_count": 150,
      "outputs": []
    },
    {
      "cell_type": "code",
      "source": [
        "def save_image(url, path):\n",
        "  img_data = requests.get(url).content\n",
        "  with open(path, 'wb') as handler:\n",
        "    handler.write(img_data)"
      ],
      "metadata": {
        "id": "C0YiCOcBEOgZ"
      },
      "execution_count": 151,
      "outputs": []
    },
    {
      "cell_type": "code",
      "source": [
        "save_path = paths['dataset']\n",
        "\n",
        "for img in tqdm(imgs):\n",
        "  filepath = pipe(\n",
        "      img['file_name'],\n",
        "      os.path.basename, \n",
        "      os.path.splitext,\n",
        "      first,\n",
        "      lambda x: os.path.join(save_path, x)\n",
        "  )\n",
        "  save_image(img['file_name'], f'{filepath}.jpg'),\n",
        "  xml_string = pipe(\n",
        "    img['id'],\n",
        "    lambda id: coco.getAnnIds(imgIds=[id]),\n",
        "    coco.loadAnns,\n",
        "    map(lambda annot: {\n",
        "        'name': str(annot['category_id']),\n",
        "        'xmin': annot['bbox'][0], # [x, y ,w ,h]\n",
        "        'ymin': annot['bbox'][1],\n",
        "        'xmax': annot['bbox'][0]+annot['bbox'][2],\n",
        "        'ymax': annot['bbox'][1]+annot['bbox'][3],\n",
        "    }),\n",
        "    lambda bboxes: generate_xml_annotation(\n",
        "      f'{filepath}.xml', \n",
        "      img['width'],\n",
        "      img['height'],\n",
        "      list(bboxes)\n",
        "    )\n",
        "  )\n",
        "  with open(f'{filepath}.xml', 'w') as file:\n",
        "    file.write(xml_string)"
      ],
      "metadata": {
        "colab": {
          "base_uri": "https://localhost:8080/"
        },
        "id": "8V_gBt4K1ZBH",
        "outputId": "4c79f5b5-9b10-4c6b-a851-5bc3b3e24673"
      },
      "execution_count": 154,
      "outputs": [
        {
          "output_type": "stream",
          "name": "stderr",
          "text": [
            "100%|██████████| 168/168 [00:39<00:00,  4.30it/s]\n"
          ]
        }
      ]
    }
  ]
}