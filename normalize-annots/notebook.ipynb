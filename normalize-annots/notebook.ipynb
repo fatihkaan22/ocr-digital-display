{
 "cells": [
  {
   "cell_type": "markdown",
   "id": "87f26a44-58fa-492a-97f9-650b13df72a3",
   "metadata": {},
   "source": [
    "- In the process of using custom datasets, it was necessary to filter relevant labels for annotations and ignore the rest. \n",
    "- All datasets were normalized in order to facilitate the merging of the various datasets."
   ]
  },
  {
   "cell_type": "markdown",
   "id": "338ed898-5c63-41c8-9fc4-d36e76e7d569",
   "metadata": {},
   "source": [
    "|digit| annotation label |\n",
    "|-----|------------------|\n",
    "| 0   | 10               |\n",
    "| 1   | 1                |\n",
    "| 2   | 2                |\n",
    "| 3   | 3                |\n",
    "| 4   | 4                |\n",
    "| 5   | 5                |\n",
    "| 6   | 6                |\n",
    "| 7   | 7                |\n",
    "| 8   | 8                |\n",
    "| 9   | 9|\n"
   ]
  },
  {
   "cell_type": "code",
   "execution_count": 448,
   "id": "76e2b7eb-fa11-4023-a876-ae85230b2977",
   "metadata": {},
   "outputs": [],
   "source": [
    "config = {\n",
    "    'phils-workspace/digits-coi4f': {\n",
    "        'label_map': {\n",
    "            '1': '1',\n",
    "            '2': '2',\n",
    "            '3': '3',\n",
    "            '4': '4',\n",
    "            '5': '5',\n",
    "            '6': '6',\n",
    "            '7': '7',\n",
    "            '8': '8',\n",
    "            '9': '9',\n",
    "            '90': '10'\n",
    "        }\n",
    "    },\n",
    "    'energy-meter': {\n",
    "        'label_map': {\n",
    "            '1': '1',\n",
    "            '6': '2',\n",
    "            '2': '3',\n",
    "            '3': '4',\n",
    "            '10': '5',\n",
    "            '4': '6',\n",
    "            '9': '7',\n",
    "            '7': '8',\n",
    "            '8': '9',\n",
    "            '5': '10'\n",
    "        }\n",
    "    },\n",
    "}"
   ]
  },
  {
   "cell_type": "code",
   "execution_count": 432,
   "id": "6922d1e5-25e2-462b-bfe3-51be0e81fdbe",
   "metadata": {},
   "outputs": [],
   "source": [
    "from toolz.curried import *\n",
    "import os\n",
    "import string\n",
    "import xml.etree.cElementTree as ET\n",
    "from xml.dom import minidom\n"
   ]
  },
  {
   "cell_type": "code",
   "execution_count": 440,
   "id": "7c947abd-b5e9-4f16-9d97-fac612416287",
   "metadata": {},
   "outputs": [],
   "source": [
    "def prettify(elem):\n",
    "    rough_string = ET.tostring(elem, 'utf-8')\n",
    "    reparsed = minidom.parseString(rough_string)\n",
    "    return reparsed.toprettyxml(indent=\"  \")\n",
    "\n",
    "def normalize_annots(path, label_map, override=False):\n",
    "  return pipe(\n",
    "      path,\n",
    "      os.listdir,\n",
    "      filter(lambda x: x.endswith('.xml')),\n",
    "      map(lambda x: os.path.join(path, x)),\n",
    "      map(lambda path: pipe(\n",
    "          path,\n",
    "          ET.parse,\n",
    "          lambda et: (normalize_annot_et(et, label_map), path),\n",
    "      )),\n",
    ")\n",
    "\n",
    "def normalize_annot_et(annot_et, label_map):\n",
    "  def set_element_text(element, value):\n",
    "    element.text = value\n",
    "\n",
    "  def get(key):\n",
    "    return label_map[key]\n",
    "\n",
    "  return pipe(\n",
    "      annot_et,\n",
    "      lambda x: x.getroot().findall('object'),\n",
    "      map(lambda o: pipe(\n",
    "          o,\n",
    "          lambda o: o[0], # object.name\n",
    "          lambda name: set_element_text(name, get(name.text)),\n",
    "      )),\n",
    "      list, # consumes the iterable!\n",
    "      lambda _: annot_et\n",
    "    )"
   ]
  },
  {
   "cell_type": "code",
   "execution_count": 442,
   "id": "9b4ab54c-f951-4130-b52f-6b4b7004ad79",
   "metadata": {},
   "outputs": [],
   "source": [
    "def normalize(path, config_key, override=False):\n",
    "    for et, path in normalize_annots(path, config[config_key]['label_map']):\n",
    "        if (override):\n",
    "            et.write(path)\n",
    "        else:\n",
    "            print(path)\n",
    "            print(prettify(et.getroot()))"
   ]
  },
  {
   "cell_type": "code",
   "execution_count": 444,
   "id": "8f7493da-4538-4c65-8a44-8e8a50382ac6",
   "metadata": {},
   "outputs": [],
   "source": [
    "normalize('/home/jupyter/ds/phils-workspace_digits-coi4f/train','phils-workspace/digits-coi4f',True)"
   ]
  },
  {
   "cell_type": "code",
   "execution_count": 445,
   "id": "b8b52474-442a-45fb-aa20-17e96b239eaf",
   "metadata": {},
   "outputs": [],
   "source": [
    "normalize('/home/jupyter/ds/phils-workspace_digits-coi4f/test','phils-workspace/digits-coi4f',True)"
   ]
  },
  {
   "cell_type": "code",
   "execution_count": 450,
   "id": "11917ea8-f0c8-4f80-9785-13548ed52315",
   "metadata": {},
   "outputs": [],
   "source": [
    "normalize('/home/jupyter/ds/energy-meter/train','energy-meter',True)"
   ]
  },
  {
   "cell_type": "code",
   "execution_count": 452,
   "id": "4c6c4a44-0feb-4ee9-9b33-e3b7fd35f5c1",
   "metadata": {},
   "outputs": [],
   "source": [
    "normalize('/home/jupyter/ds/energy-meter/test','energy-meter',True)"
   ]
  },
  {
   "cell_type": "code",
   "execution_count": null,
   "id": "dc1193d7-c0aa-47d3-b228-5596019ca134",
   "metadata": {},
   "outputs": [],
   "source": []
  }
 ],
 "metadata": {
  "environment": {
   "kernel": "python3",
   "name": "tf2-gpu.2-8.m102",
   "type": "gcloud",
   "uri": "gcr.io/deeplearning-platform-release/tf2-gpu.2-8:m102"
  },
  "kernelspec": {
   "display_name": "Python 3 (ipykernel)",
   "language": "python",
   "name": "python3"
  },
  "language_info": {
   "codemirror_mode": {
    "name": "ipython",
    "version": 3
   },
   "file_extension": ".py",
   "mimetype": "text/x-python",
   "name": "python",
   "nbconvert_exporter": "python",
   "pygments_lexer": "ipython3",
   "version": "3.7.12"
  }
 },
 "nbformat": 4,
 "nbformat_minor": 5
}
