{
 "cells": [
  {
   "cell_type": "markdown",
   "id": "87f26a44-58fa-492a-97f9-650b13df72a3",
   "metadata": {},
   "source": [
    "- In the process of using custom datasets, it was necessary to filter relevant labels for annotations and ignore the rest. \n",
    "- All datasets were normalized in order to facilitate the merging of the various datasets."
   ]
  },
  {
   "cell_type": "markdown",
   "id": "338ed898-5c63-41c8-9fc4-d36e76e7d569",
   "metadata": {},
   "source": [
    "|digit| annotation label |\n",
    "|-----|------------------|\n",
    "| 0   | 10               |\n",
    "| 1   | 1                |\n",
    "| 2   | 2                |\n",
    "| 3   | 3                |\n",
    "| 4   | 4                |\n",
    "| 5   | 5                |\n",
    "| 6   | 6                |\n",
    "| 7   | 7                |\n",
    "| 8   | 8                |\n",
    "| 9   | 9|\n"
   ]
  },
  {
   "cell_type": "code",
   "execution_count": 468,
   "id": "76e2b7eb-fa11-4023-a876-ae85230b2977",
   "metadata": {},
   "outputs": [],
   "source": [
    "config = {\n",
    "    'phils-workspace/digits-coi4f': {\n",
    "        'label_map': {\n",
    "            '1': '1',\n",
    "            '2': '2',\n",
    "            '3': '3',\n",
    "            '4': '4',\n",
    "            '5': '5',\n",
    "            '6': '6',\n",
    "            '7': '7',\n",
    "            '8': '8',\n",
    "            '9': '9',\n",
    "            '90': '0'\n",
    "        }\n",
    "    },\n",
    "    'energy-meter': {\n",
    "        'label_map': {\n",
    "            '1': '1',\n",
    "            '6': '2',\n",
    "            '2': '3',\n",
    "            '3': '4',\n",
    "            '10': '5',\n",
    "            '4': '6',\n",
    "            '9': '7',\n",
    "            '7': '8',\n",
    "            '8': '9',\n",
    "            '5': '0'\n",
    "        }\n",
    "    },\n",
    "    'noop': {\n",
    "        'label_map': {\n",
    "            '1': '1',\n",
    "            '2': '2',\n",
    "            '3': '3',\n",
    "            '4': '4',\n",
    "            '5': '5',\n",
    "            '6': '6',\n",
    "            '7': '7',\n",
    "            '8': '8',\n",
    "            '9': '9',\n",
    "            '0': '0'\n",
    "        }\n",
    "    },\n",
    "}"
   ]
  },
  {
   "cell_type": "code",
   "execution_count": 469,
   "id": "6922d1e5-25e2-462b-bfe3-51be0e81fdbe",
   "metadata": {},
   "outputs": [],
   "source": [
    "from toolz.curried import *\n",
    "import os\n",
    "import string\n",
    "import xml.etree.cElementTree as ET\n",
    "from xml.dom import minidom\n"
   ]
  },
  {
   "cell_type": "code",
   "execution_count": 615,
   "id": "7c947abd-b5e9-4f16-9d97-fac612416287",
   "metadata": {},
   "outputs": [],
   "source": [
    "def prettify(elem):\n",
    "    rough_string = ET.tostring(elem, 'utf-8')\n",
    "    reparsed = minidom.parseString(rough_string)\n",
    "    return reparsed.toprettyxml(indent=\"  \")\n",
    "\n",
    "def apply_annots(path, func):\n",
    "  return pipe(\n",
    "      path,\n",
    "      os.listdir,\n",
    "      filter(lambda x: x.endswith('.xml')),\n",
    "      map(lambda x: os.path.join(path, x)),\n",
    "      map(lambda path: pipe(\n",
    "          path,\n",
    "          ET.parse,\n",
    "          lambda et: (func(et), path),\n",
    "      )),\n",
    ")\n",
    "\n",
    "def set_element_text(element, value):\n",
    "    element.text = value\n",
    "\n",
    "def normalize_annot_et(annot_et, label_map):\n",
    "  def get(key):\n",
    "    return label_map[key]\n",
    "  return pipe(\n",
    "      annot_et,\n",
    "      lambda x: x.getroot().findall('object'),\n",
    "      map(lambda o: pipe(\n",
    "          o,\n",
    "          lambda o: o[0], # object.name\n",
    "          lambda name: set_element_text(name, get(name.text)),\n",
    "      )),\n",
    "      list, # consumes the iterable!\n",
    "      lambda _: annot_et\n",
    "    )\n",
    "\n",
    "def normalize_path_et(annot_et):\n",
    "  return pipe(\n",
    "      annot_et,\n",
    "      lambda x: x.getroot().find('filename'),\n",
    "      lambda filename: pipe(\n",
    "          filename,\n",
    "          lambda x: x.text,\n",
    "          lambda path: os.path.split(path)[1],\n",
    "          lambda out: pipe(\n",
    "              out,\n",
    "              lambda x: x.replace('_','_2'),\n",
    "              lambda x: set_element_text(filename, x)\n",
    "          ),\n",
    "      ),\n",
    "      lambda _: annot_et\n",
    "    )\n",
    "    \n",
    "\n",
    "def normalize_annots(path, label_map):\n",
    "  return apply_annots(path, lambda et: normalize_annot_et(et, label_map))\n",
    "\n",
    "def normalize_path(path):\n",
    "  return apply_annots(path, lambda et: normalize_path_et(et))\n"
   ]
  },
  {
   "cell_type": "code",
   "execution_count": 616,
   "id": "9b4ab54c-f951-4130-b52f-6b4b7004ad79",
   "metadata": {},
   "outputs": [],
   "source": [
    "def normalize(path, config_key, override=False):\n",
    "    for et, path in normalize_annots(path, config[config_key]['label_map']):\n",
    "        if (override):\n",
    "            et.write(path)\n",
    "        else:\n",
    "            print(path)\n",
    "            print(prettify(et.getroot()))\n",
    "            \n",
    "def normalize_path_ds(path, override=False):\n",
    "    for et, path in normalize_path(path):\n",
    "        if (override):\n",
    "            et.write(path)\n",
    "        else:\n",
    "            print(path)\n",
    "            print(prettify(et.getroot()))\n"
   ]
  },
  {
   "cell_type": "code",
   "execution_count": 611,
   "id": "8f7493da-4538-4c65-8a44-8e8a50382ac6",
   "metadata": {
    "collapsed": true,
    "jupyter": {
     "outputs_hidden": true
    },
    "tags": []
   },
   "outputs": [
    {
     "ename": "KeyError",
     "evalue": "'0'",
     "output_type": "error",
     "traceback": [
      "\u001b[0;31m---------------------------------------------------------------------------\u001b[0m",
      "\u001b[0;31mKeyError\u001b[0m                                  Traceback (most recent call last)",
      "\u001b[0;32m/tmp/ipykernel_17794/2268615420.py\u001b[0m in \u001b[0;36m<module>\u001b[0;34m\u001b[0m\n\u001b[0;32m----> 1\u001b[0;31m \u001b[0mnormalize\u001b[0m\u001b[0;34m(\u001b[0m\u001b[0;34m'/home/jupyter/ds/phils-workspace_digits-coi4f/train'\u001b[0m\u001b[0;34m,\u001b[0m\u001b[0;34m'phils-workspace/digits-coi4f'\u001b[0m\u001b[0;34m,\u001b[0m\u001b[0;32mTrue\u001b[0m\u001b[0;34m)\u001b[0m\u001b[0;34m\u001b[0m\u001b[0;34m\u001b[0m\u001b[0m\n\u001b[0m",
      "\u001b[0;32m/tmp/ipykernel_17794/2903805779.py\u001b[0m in \u001b[0;36mnormalize\u001b[0;34m(path, config_key, override)\u001b[0m\n\u001b[1;32m      1\u001b[0m \u001b[0;32mdef\u001b[0m \u001b[0mnormalize\u001b[0m\u001b[0;34m(\u001b[0m\u001b[0mpath\u001b[0m\u001b[0;34m,\u001b[0m \u001b[0mconfig_key\u001b[0m\u001b[0;34m,\u001b[0m \u001b[0moverride\u001b[0m\u001b[0;34m=\u001b[0m\u001b[0;32mFalse\u001b[0m\u001b[0;34m)\u001b[0m\u001b[0;34m:\u001b[0m\u001b[0;34m\u001b[0m\u001b[0;34m\u001b[0m\u001b[0m\n\u001b[0;32m----> 2\u001b[0;31m     \u001b[0;32mfor\u001b[0m \u001b[0met\u001b[0m\u001b[0;34m,\u001b[0m \u001b[0mpath\u001b[0m \u001b[0;32min\u001b[0m \u001b[0mnormalize_annots\u001b[0m\u001b[0;34m(\u001b[0m\u001b[0mpath\u001b[0m\u001b[0;34m,\u001b[0m \u001b[0mconfig\u001b[0m\u001b[0;34m[\u001b[0m\u001b[0mconfig_key\u001b[0m\u001b[0;34m]\u001b[0m\u001b[0;34m[\u001b[0m\u001b[0;34m'label_map'\u001b[0m\u001b[0;34m]\u001b[0m\u001b[0;34m)\u001b[0m\u001b[0;34m:\u001b[0m\u001b[0;34m\u001b[0m\u001b[0;34m\u001b[0m\u001b[0m\n\u001b[0m\u001b[1;32m      3\u001b[0m         \u001b[0;32mif\u001b[0m \u001b[0;34m(\u001b[0m\u001b[0moverride\u001b[0m\u001b[0;34m)\u001b[0m\u001b[0;34m:\u001b[0m\u001b[0;34m\u001b[0m\u001b[0;34m\u001b[0m\u001b[0m\n\u001b[1;32m      4\u001b[0m             \u001b[0met\u001b[0m\u001b[0;34m.\u001b[0m\u001b[0mwrite\u001b[0m\u001b[0;34m(\u001b[0m\u001b[0mpath\u001b[0m\u001b[0;34m)\u001b[0m\u001b[0;34m\u001b[0m\u001b[0;34m\u001b[0m\u001b[0m\n\u001b[1;32m      5\u001b[0m         \u001b[0;32melse\u001b[0m\u001b[0;34m:\u001b[0m\u001b[0;34m\u001b[0m\u001b[0;34m\u001b[0m\u001b[0m\n",
      "\u001b[0;32m/tmp/ipykernel_17794/4168018381.py\u001b[0m in \u001b[0;36m<lambda>\u001b[0;34m(path)\u001b[0m\n\u001b[1;32m     13\u001b[0m           \u001b[0mpath\u001b[0m\u001b[0;34m,\u001b[0m\u001b[0;34m\u001b[0m\u001b[0;34m\u001b[0m\u001b[0m\n\u001b[1;32m     14\u001b[0m           \u001b[0mET\u001b[0m\u001b[0;34m.\u001b[0m\u001b[0mparse\u001b[0m\u001b[0;34m,\u001b[0m\u001b[0;34m\u001b[0m\u001b[0;34m\u001b[0m\u001b[0m\n\u001b[0;32m---> 15\u001b[0;31m           \u001b[0;32mlambda\u001b[0m \u001b[0met\u001b[0m\u001b[0;34m:\u001b[0m \u001b[0;34m(\u001b[0m\u001b[0mfunc\u001b[0m\u001b[0;34m(\u001b[0m\u001b[0met\u001b[0m\u001b[0;34m)\u001b[0m\u001b[0;34m,\u001b[0m \u001b[0mpath\u001b[0m\u001b[0;34m)\u001b[0m\u001b[0;34m,\u001b[0m\u001b[0;34m\u001b[0m\u001b[0;34m\u001b[0m\u001b[0m\n\u001b[0m\u001b[1;32m     16\u001b[0m       )),\n\u001b[1;32m     17\u001b[0m )\n",
      "\u001b[0;32m/opt/conda/lib/python3.7/site-packages/toolz/functoolz.py\u001b[0m in \u001b[0;36mpipe\u001b[0;34m(data, *funcs)\u001b[0m\n\u001b[1;32m    626\u001b[0m     \"\"\"\n\u001b[1;32m    627\u001b[0m     \u001b[0;32mfor\u001b[0m \u001b[0mfunc\u001b[0m \u001b[0;32min\u001b[0m \u001b[0mfuncs\u001b[0m\u001b[0;34m:\u001b[0m\u001b[0;34m\u001b[0m\u001b[0;34m\u001b[0m\u001b[0m\n\u001b[0;32m--> 628\u001b[0;31m         \u001b[0mdata\u001b[0m \u001b[0;34m=\u001b[0m \u001b[0mfunc\u001b[0m\u001b[0;34m(\u001b[0m\u001b[0mdata\u001b[0m\u001b[0;34m)\u001b[0m\u001b[0;34m\u001b[0m\u001b[0;34m\u001b[0m\u001b[0m\n\u001b[0m\u001b[1;32m    629\u001b[0m     \u001b[0;32mreturn\u001b[0m \u001b[0mdata\u001b[0m\u001b[0;34m\u001b[0m\u001b[0;34m\u001b[0m\u001b[0m\n\u001b[1;32m    630\u001b[0m \u001b[0;34m\u001b[0m\u001b[0m\n",
      "\u001b[0;32m/tmp/ipykernel_17794/4168018381.py\u001b[0m in \u001b[0;36m<lambda>\u001b[0;34m(et)\u001b[0m\n\u001b[1;32m     13\u001b[0m           \u001b[0mpath\u001b[0m\u001b[0;34m,\u001b[0m\u001b[0;34m\u001b[0m\u001b[0;34m\u001b[0m\u001b[0m\n\u001b[1;32m     14\u001b[0m           \u001b[0mET\u001b[0m\u001b[0;34m.\u001b[0m\u001b[0mparse\u001b[0m\u001b[0;34m,\u001b[0m\u001b[0;34m\u001b[0m\u001b[0;34m\u001b[0m\u001b[0m\n\u001b[0;32m---> 15\u001b[0;31m           \u001b[0;32mlambda\u001b[0m \u001b[0met\u001b[0m\u001b[0;34m:\u001b[0m \u001b[0;34m(\u001b[0m\u001b[0mfunc\u001b[0m\u001b[0;34m(\u001b[0m\u001b[0met\u001b[0m\u001b[0;34m)\u001b[0m\u001b[0;34m,\u001b[0m \u001b[0mpath\u001b[0m\u001b[0;34m)\u001b[0m\u001b[0;34m,\u001b[0m\u001b[0;34m\u001b[0m\u001b[0;34m\u001b[0m\u001b[0m\n\u001b[0m\u001b[1;32m     16\u001b[0m       )),\n\u001b[1;32m     17\u001b[0m )\n",
      "\u001b[0;32m/tmp/ipykernel_17794/4168018381.py\u001b[0m in \u001b[0;36m<lambda>\u001b[0;34m(et)\u001b[0m\n\u001b[1;32m     54\u001b[0m \u001b[0;34m\u001b[0m\u001b[0m\n\u001b[1;32m     55\u001b[0m \u001b[0;32mdef\u001b[0m \u001b[0mnormalize_annots\u001b[0m\u001b[0;34m(\u001b[0m\u001b[0mpath\u001b[0m\u001b[0;34m,\u001b[0m \u001b[0mlabel_map\u001b[0m\u001b[0;34m)\u001b[0m\u001b[0;34m:\u001b[0m\u001b[0;34m\u001b[0m\u001b[0;34m\u001b[0m\u001b[0m\n\u001b[0;32m---> 56\u001b[0;31m   \u001b[0;32mreturn\u001b[0m \u001b[0mapply_annots\u001b[0m\u001b[0;34m(\u001b[0m\u001b[0mpath\u001b[0m\u001b[0;34m,\u001b[0m \u001b[0;32mlambda\u001b[0m \u001b[0met\u001b[0m\u001b[0;34m:\u001b[0m \u001b[0mnormalize_annot_et\u001b[0m\u001b[0;34m(\u001b[0m\u001b[0met\u001b[0m\u001b[0;34m,\u001b[0m \u001b[0mlabel_map\u001b[0m\u001b[0;34m)\u001b[0m\u001b[0;34m)\u001b[0m\u001b[0;34m\u001b[0m\u001b[0;34m\u001b[0m\u001b[0m\n\u001b[0m\u001b[1;32m     57\u001b[0m \u001b[0;34m\u001b[0m\u001b[0m\n\u001b[1;32m     58\u001b[0m \u001b[0;32mdef\u001b[0m \u001b[0mnormalize_path\u001b[0m\u001b[0;34m(\u001b[0m\u001b[0mpath\u001b[0m\u001b[0;34m)\u001b[0m\u001b[0;34m:\u001b[0m\u001b[0;34m\u001b[0m\u001b[0;34m\u001b[0m\u001b[0m\n",
      "\u001b[0;32m/tmp/ipykernel_17794/4168018381.py\u001b[0m in \u001b[0;36mnormalize_annot_et\u001b[0;34m(annot_et, label_map)\u001b[0m\n\u001b[1;32m     32\u001b[0m       )),\n\u001b[1;32m     33\u001b[0m       \u001b[0mlist\u001b[0m\u001b[0;34m,\u001b[0m \u001b[0;31m# consumes the iterable!\u001b[0m\u001b[0;34m\u001b[0m\u001b[0;34m\u001b[0m\u001b[0m\n\u001b[0;32m---> 34\u001b[0;31m       \u001b[0;32mlambda\u001b[0m \u001b[0m_\u001b[0m\u001b[0;34m:\u001b[0m \u001b[0mannot_et\u001b[0m\u001b[0;34m\u001b[0m\u001b[0;34m\u001b[0m\u001b[0m\n\u001b[0m\u001b[1;32m     35\u001b[0m     )\n\u001b[1;32m     36\u001b[0m \u001b[0;34m\u001b[0m\u001b[0m\n",
      "\u001b[0;32m/opt/conda/lib/python3.7/site-packages/toolz/functoolz.py\u001b[0m in \u001b[0;36mpipe\u001b[0;34m(data, *funcs)\u001b[0m\n\u001b[1;32m    626\u001b[0m     \"\"\"\n\u001b[1;32m    627\u001b[0m     \u001b[0;32mfor\u001b[0m \u001b[0mfunc\u001b[0m \u001b[0;32min\u001b[0m \u001b[0mfuncs\u001b[0m\u001b[0;34m:\u001b[0m\u001b[0;34m\u001b[0m\u001b[0;34m\u001b[0m\u001b[0m\n\u001b[0;32m--> 628\u001b[0;31m         \u001b[0mdata\u001b[0m \u001b[0;34m=\u001b[0m \u001b[0mfunc\u001b[0m\u001b[0;34m(\u001b[0m\u001b[0mdata\u001b[0m\u001b[0;34m)\u001b[0m\u001b[0;34m\u001b[0m\u001b[0;34m\u001b[0m\u001b[0m\n\u001b[0m\u001b[1;32m    629\u001b[0m     \u001b[0;32mreturn\u001b[0m \u001b[0mdata\u001b[0m\u001b[0;34m\u001b[0m\u001b[0;34m\u001b[0m\u001b[0m\n\u001b[1;32m    630\u001b[0m \u001b[0;34m\u001b[0m\u001b[0m\n",
      "\u001b[0;32m/tmp/ipykernel_17794/4168018381.py\u001b[0m in \u001b[0;36m<lambda>\u001b[0;34m(o)\u001b[0m\n\u001b[1;32m     29\u001b[0m           \u001b[0mo\u001b[0m\u001b[0;34m,\u001b[0m\u001b[0;34m\u001b[0m\u001b[0;34m\u001b[0m\u001b[0m\n\u001b[1;32m     30\u001b[0m           \u001b[0;32mlambda\u001b[0m \u001b[0mo\u001b[0m\u001b[0;34m:\u001b[0m \u001b[0mo\u001b[0m\u001b[0;34m[\u001b[0m\u001b[0;36m0\u001b[0m\u001b[0;34m]\u001b[0m\u001b[0;34m,\u001b[0m \u001b[0;31m# object.name\u001b[0m\u001b[0;34m\u001b[0m\u001b[0;34m\u001b[0m\u001b[0m\n\u001b[0;32m---> 31\u001b[0;31m           \u001b[0;32mlambda\u001b[0m \u001b[0mname\u001b[0m\u001b[0;34m:\u001b[0m \u001b[0mset_element_text\u001b[0m\u001b[0;34m(\u001b[0m\u001b[0mname\u001b[0m\u001b[0;34m,\u001b[0m \u001b[0mget\u001b[0m\u001b[0;34m(\u001b[0m\u001b[0mname\u001b[0m\u001b[0;34m.\u001b[0m\u001b[0mtext\u001b[0m\u001b[0;34m)\u001b[0m\u001b[0;34m)\u001b[0m\u001b[0;34m,\u001b[0m\u001b[0;34m\u001b[0m\u001b[0;34m\u001b[0m\u001b[0m\n\u001b[0m\u001b[1;32m     32\u001b[0m       )),\n\u001b[1;32m     33\u001b[0m       \u001b[0mlist\u001b[0m\u001b[0;34m,\u001b[0m \u001b[0;31m# consumes the iterable!\u001b[0m\u001b[0;34m\u001b[0m\u001b[0;34m\u001b[0m\u001b[0m\n",
      "\u001b[0;32m/opt/conda/lib/python3.7/site-packages/toolz/functoolz.py\u001b[0m in \u001b[0;36mpipe\u001b[0;34m(data, *funcs)\u001b[0m\n\u001b[1;32m    626\u001b[0m     \"\"\"\n\u001b[1;32m    627\u001b[0m     \u001b[0;32mfor\u001b[0m \u001b[0mfunc\u001b[0m \u001b[0;32min\u001b[0m \u001b[0mfuncs\u001b[0m\u001b[0;34m:\u001b[0m\u001b[0;34m\u001b[0m\u001b[0;34m\u001b[0m\u001b[0m\n\u001b[0;32m--> 628\u001b[0;31m         \u001b[0mdata\u001b[0m \u001b[0;34m=\u001b[0m \u001b[0mfunc\u001b[0m\u001b[0;34m(\u001b[0m\u001b[0mdata\u001b[0m\u001b[0;34m)\u001b[0m\u001b[0;34m\u001b[0m\u001b[0;34m\u001b[0m\u001b[0m\n\u001b[0m\u001b[1;32m    629\u001b[0m     \u001b[0;32mreturn\u001b[0m \u001b[0mdata\u001b[0m\u001b[0;34m\u001b[0m\u001b[0;34m\u001b[0m\u001b[0m\n\u001b[1;32m    630\u001b[0m \u001b[0;34m\u001b[0m\u001b[0m\n",
      "\u001b[0;32m/tmp/ipykernel_17794/4168018381.py\u001b[0m in \u001b[0;36m<lambda>\u001b[0;34m(name)\u001b[0m\n\u001b[1;32m     29\u001b[0m           \u001b[0mo\u001b[0m\u001b[0;34m,\u001b[0m\u001b[0;34m\u001b[0m\u001b[0;34m\u001b[0m\u001b[0m\n\u001b[1;32m     30\u001b[0m           \u001b[0;32mlambda\u001b[0m \u001b[0mo\u001b[0m\u001b[0;34m:\u001b[0m \u001b[0mo\u001b[0m\u001b[0;34m[\u001b[0m\u001b[0;36m0\u001b[0m\u001b[0;34m]\u001b[0m\u001b[0;34m,\u001b[0m \u001b[0;31m# object.name\u001b[0m\u001b[0;34m\u001b[0m\u001b[0;34m\u001b[0m\u001b[0m\n\u001b[0;32m---> 31\u001b[0;31m           \u001b[0;32mlambda\u001b[0m \u001b[0mname\u001b[0m\u001b[0;34m:\u001b[0m \u001b[0mset_element_text\u001b[0m\u001b[0;34m(\u001b[0m\u001b[0mname\u001b[0m\u001b[0;34m,\u001b[0m \u001b[0mget\u001b[0m\u001b[0;34m(\u001b[0m\u001b[0mname\u001b[0m\u001b[0;34m.\u001b[0m\u001b[0mtext\u001b[0m\u001b[0;34m)\u001b[0m\u001b[0;34m)\u001b[0m\u001b[0;34m,\u001b[0m\u001b[0;34m\u001b[0m\u001b[0;34m\u001b[0m\u001b[0m\n\u001b[0m\u001b[1;32m     32\u001b[0m       )),\n\u001b[1;32m     33\u001b[0m       \u001b[0mlist\u001b[0m\u001b[0;34m,\u001b[0m \u001b[0;31m# consumes the iterable!\u001b[0m\u001b[0;34m\u001b[0m\u001b[0;34m\u001b[0m\u001b[0m\n",
      "\u001b[0;32m/tmp/ipykernel_17794/4168018381.py\u001b[0m in \u001b[0;36mget\u001b[0;34m(key)\u001b[0m\n\u001b[1;32m     22\u001b[0m \u001b[0;32mdef\u001b[0m \u001b[0mnormalize_annot_et\u001b[0m\u001b[0;34m(\u001b[0m\u001b[0mannot_et\u001b[0m\u001b[0;34m,\u001b[0m \u001b[0mlabel_map\u001b[0m\u001b[0;34m)\u001b[0m\u001b[0;34m:\u001b[0m\u001b[0;34m\u001b[0m\u001b[0;34m\u001b[0m\u001b[0m\n\u001b[1;32m     23\u001b[0m   \u001b[0;32mdef\u001b[0m \u001b[0mget\u001b[0m\u001b[0;34m(\u001b[0m\u001b[0mkey\u001b[0m\u001b[0;34m)\u001b[0m\u001b[0;34m:\u001b[0m\u001b[0;34m\u001b[0m\u001b[0;34m\u001b[0m\u001b[0m\n\u001b[0;32m---> 24\u001b[0;31m     \u001b[0;32mreturn\u001b[0m \u001b[0mlabel_map\u001b[0m\u001b[0;34m[\u001b[0m\u001b[0mkey\u001b[0m\u001b[0;34m]\u001b[0m\u001b[0;34m\u001b[0m\u001b[0;34m\u001b[0m\u001b[0m\n\u001b[0m\u001b[1;32m     25\u001b[0m   return pipe(\n\u001b[1;32m     26\u001b[0m       \u001b[0mannot_et\u001b[0m\u001b[0;34m,\u001b[0m\u001b[0;34m\u001b[0m\u001b[0;34m\u001b[0m\u001b[0m\n",
      "\u001b[0;31mKeyError\u001b[0m: '0'"
     ]
    }
   ],
   "source": [
    "normalize('/home/jupyter/ds/phils-workspace_digits-coi4f/train','phils-workspace/digits-coi4f',True)"
   ]
  },
  {
   "cell_type": "code",
   "execution_count": 463,
   "id": "b8b52474-442a-45fb-aa20-17e96b239eaf",
   "metadata": {},
   "outputs": [],
   "source": [
    "normalize('/home/jupyter/ds/phils-workspace_digits-coi4f/test','phils-workspace/digits-coi4f',True)"
   ]
  },
  {
   "cell_type": "code",
   "execution_count": 466,
   "id": "11917ea8-f0c8-4f80-9785-13548ed52315",
   "metadata": {},
   "outputs": [],
   "source": [
    "normalize('/home/jupyter/ds/energy-meter/train','energy-meter',True)"
   ]
  },
  {
   "cell_type": "code",
   "execution_count": 467,
   "id": "4c6c4a44-0feb-4ee9-9b33-e3b7fd35f5c1",
   "metadata": {},
   "outputs": [],
   "source": [
    "normalize('/home/jupyter/ds/energy-meter/test','energy-meter',True)"
   ]
  },
  {
   "cell_type": "code",
   "execution_count": 617,
   "id": "3700cb6f-5dde-43f3-a833-d534db744ff7",
   "metadata": {},
   "outputs": [],
   "source": [
    "normalize_path_ds('/home/jupyter/ds/energy-meter/train',True)"
   ]
  },
  {
   "cell_type": "code",
   "execution_count": 618,
   "id": "d098ad6c-318b-4fa9-bd49-cf8a024a1357",
   "metadata": {},
   "outputs": [],
   "source": [
    "normalize_path_ds('/home/jupyter/ds/energy-meter/test',True)"
   ]
  },
  {
   "cell_type": "code",
   "execution_count": null,
   "id": "b41aa794-9d24-4ff6-b070-780f662035df",
   "metadata": {},
   "outputs": [],
   "source": []
  }
 ],
 "metadata": {
  "environment": {
   "kernel": "python3",
   "name": "tf2-gpu.2-8.m102",
   "type": "gcloud",
   "uri": "gcr.io/deeplearning-platform-release/tf2-gpu.2-8:m102"
  },
  "kernelspec": {
   "display_name": "Python 3 (ipykernel)",
   "language": "python",
   "name": "python3"
  },
  "language_info": {
   "codemirror_mode": {
    "name": "ipython",
    "version": 3
   },
   "file_extension": ".py",
   "mimetype": "text/x-python",
   "name": "python",
   "nbconvert_exporter": "python",
   "pygments_lexer": "ipython3",
   "version": "3.7.12"
  }
 },
 "nbformat": 4,
 "nbformat_minor": 5
}
