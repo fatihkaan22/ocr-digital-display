{
  "nbformat": 4,
  "nbformat_minor": 0,
  "metadata": {
    "colab": {
      "provenance": []
    },
    "kernelspec": {
      "name": "python3",
      "display_name": "Python 3"
    },
    "language_info": {
      "name": "python"
    }
  },
  "cells": [
    {
      "cell_type": "code",
      "source": [
        "! pip install fonttools"
      ],
      "metadata": {
        "id": "rpUVEaUufWZk",
        "outputId": "21f83dbd-0e93-4bbd-91ad-91f5e0eaa345",
        "colab": {
          "base_uri": "https://localhost:8080/"
        }
      },
      "execution_count": 2,
      "outputs": [
        {
          "output_type": "stream",
          "name": "stdout",
          "text": [
            "Looking in indexes: https://pypi.org/simple, https://us-python.pkg.dev/colab-wheels/public/simple/\n",
            "Collecting fonttools\n",
            "  Downloading fonttools-4.38.0-py3-none-any.whl (965 kB)\n",
            "\u001b[K     |████████████████████████████████| 965 kB 7.0 MB/s \n",
            "\u001b[?25hInstalling collected packages: fonttools\n",
            "Successfully installed fonttools-4.38.0\n"
          ]
        }
      ]
    },
    {
      "cell_type": "code",
      "source": [
        "import os\n",
        "import random\n",
        "import string\n",
        "import PIL\n",
        "from PIL import ImageFont\n",
        "from PIL import Image\n",
        "from PIL import ImageDraw\n",
        "from tqdm import tqdm\n",
        "from io import BytesIO\n",
        "from toolz.curried import *\n",
        "import requests"
      ],
      "metadata": {
        "id": "uzQr354gFQiX"
      },
      "execution_count": 3,
      "outputs": []
    },
    {
      "cell_type": "code",
      "source": [
        "from fontTools.ttLib import TTFont\n",
        "from fontTools.unicode import Unicode"
      ],
      "metadata": {
        "id": "DfeQWubxc1Q-"
      },
      "execution_count": 4,
      "outputs": []
    },
    {
      "cell_type": "code",
      "source": [
        "! git clone https://github.com/fatihkaan22/ocr-digital-display/"
      ],
      "metadata": {
        "id": "ryrGRRNBJ0Ub",
        "outputId": "6473d133-bfd1-44ca-b4e6-7f75db5a1732",
        "colab": {
          "base_uri": "https://localhost:8080/"
        }
      },
      "execution_count": 5,
      "outputs": [
        {
          "output_type": "stream",
          "name": "stdout",
          "text": [
            "Cloning into 'ocr-digital-display'...\n",
            "remote: Enumerating objects: 111, done.\u001b[K\n",
            "remote: Counting objects: 100% (111/111), done.\u001b[K\n",
            "remote: Compressing objects: 100% (62/62), done.\u001b[K\n",
            "remote: Total 111 (delta 55), reused 82 (delta 41), pack-reused 0\u001b[K\n",
            "Receiving objects: 100% (111/111), 2.08 MiB | 5.99 MiB/s, done.\n",
            "Resolving deltas: 100% (55/55), done.\n"
          ]
        }
      ]
    },
    {
      "cell_type": "code",
      "source": [
        "paths = {\n",
        "  'fonts': os.path.join('ocr-digital-display','synthetic-data-generation', 'fonts'),\n",
        "  'drive_ws': os.path.join('drive', 'MyDrive', 'cse496', 'Tensorflow', 'workspace', 'synthetic-data-single-font'),\n",
        "  'ws_dataset': os.path.join('drive', 'MyDrive', 'cse496', 'Tensorflow', 'workspace', 'synthetic-data-single-font', 'images'),\n",
        "}"
      ],
      "metadata": {
        "id": "4SZLcWPtFCFJ"
      },
      "execution_count": 6,
      "outputs": []
    },
    {
      "cell_type": "code",
      "source": [
        "from google.colab import drive\n",
        "drive.mount('/content/drive')"
      ],
      "metadata": {
        "colab": {
          "base_uri": "https://localhost:8080/",
          "height": 332
        },
        "id": "0VAgxO-8OI7K",
        "outputId": "3191e904-062c-4b95-c0ab-ef5c5113e262"
      },
      "execution_count": 7,
      "outputs": [
        {
          "output_type": "error",
          "ename": "MessageError",
          "evalue": "ignored",
          "traceback": [
            "\u001b[0;31m---------------------------------------------------------------------------\u001b[0m",
            "\u001b[0;31mMessageError\u001b[0m                              Traceback (most recent call last)",
            "\u001b[0;32m<ipython-input-7-d5df0069828e>\u001b[0m in \u001b[0;36m<module>\u001b[0;34m\u001b[0m\n\u001b[1;32m      1\u001b[0m \u001b[0;32mfrom\u001b[0m \u001b[0mgoogle\u001b[0m\u001b[0;34m.\u001b[0m\u001b[0mcolab\u001b[0m \u001b[0;32mimport\u001b[0m \u001b[0mdrive\u001b[0m\u001b[0;34m\u001b[0m\u001b[0;34m\u001b[0m\u001b[0m\n\u001b[0;32m----> 2\u001b[0;31m \u001b[0mdrive\u001b[0m\u001b[0;34m.\u001b[0m\u001b[0mmount\u001b[0m\u001b[0;34m(\u001b[0m\u001b[0;34m'/content/drive'\u001b[0m\u001b[0;34m)\u001b[0m\u001b[0;34m\u001b[0m\u001b[0;34m\u001b[0m\u001b[0m\n\u001b[0m",
            "\u001b[0;32m/usr/local/lib/python3.7/dist-packages/google/colab/drive.py\u001b[0m in \u001b[0;36mmount\u001b[0;34m(mountpoint, force_remount, timeout_ms, readonly)\u001b[0m\n\u001b[1;32m    104\u001b[0m       \u001b[0mtimeout_ms\u001b[0m\u001b[0;34m=\u001b[0m\u001b[0mtimeout_ms\u001b[0m\u001b[0;34m,\u001b[0m\u001b[0;34m\u001b[0m\u001b[0;34m\u001b[0m\u001b[0m\n\u001b[1;32m    105\u001b[0m       \u001b[0mephemeral\u001b[0m\u001b[0;34m=\u001b[0m\u001b[0;32mTrue\u001b[0m\u001b[0;34m,\u001b[0m\u001b[0;34m\u001b[0m\u001b[0;34m\u001b[0m\u001b[0m\n\u001b[0;32m--> 106\u001b[0;31m       readonly=readonly)\n\u001b[0m\u001b[1;32m    107\u001b[0m \u001b[0;34m\u001b[0m\u001b[0m\n\u001b[1;32m    108\u001b[0m \u001b[0;34m\u001b[0m\u001b[0m\n",
            "\u001b[0;32m/usr/local/lib/python3.7/dist-packages/google/colab/drive.py\u001b[0m in \u001b[0;36m_mount\u001b[0;34m(mountpoint, force_remount, timeout_ms, ephemeral, readonly)\u001b[0m\n\u001b[1;32m    123\u001b[0m   \u001b[0;32mif\u001b[0m \u001b[0mephemeral\u001b[0m\u001b[0;34m:\u001b[0m\u001b[0;34m\u001b[0m\u001b[0;34m\u001b[0m\u001b[0m\n\u001b[1;32m    124\u001b[0m     _message.blocking_request(\n\u001b[0;32m--> 125\u001b[0;31m         'request_auth', request={'authType': 'dfs_ephemeral'}, timeout_sec=None)\n\u001b[0m\u001b[1;32m    126\u001b[0m \u001b[0;34m\u001b[0m\u001b[0m\n\u001b[1;32m    127\u001b[0m   \u001b[0mmountpoint\u001b[0m \u001b[0;34m=\u001b[0m \u001b[0m_os\u001b[0m\u001b[0;34m.\u001b[0m\u001b[0mpath\u001b[0m\u001b[0;34m.\u001b[0m\u001b[0mexpanduser\u001b[0m\u001b[0;34m(\u001b[0m\u001b[0mmountpoint\u001b[0m\u001b[0;34m)\u001b[0m\u001b[0;34m\u001b[0m\u001b[0;34m\u001b[0m\u001b[0m\n",
            "\u001b[0;32m/usr/local/lib/python3.7/dist-packages/google/colab/_message.py\u001b[0m in \u001b[0;36mblocking_request\u001b[0;34m(request_type, request, timeout_sec, parent)\u001b[0m\n\u001b[1;32m    169\u001b[0m   request_id = send_request(\n\u001b[1;32m    170\u001b[0m       request_type, request, parent=parent, expect_reply=True)\n\u001b[0;32m--> 171\u001b[0;31m   \u001b[0;32mreturn\u001b[0m \u001b[0mread_reply_from_input\u001b[0m\u001b[0;34m(\u001b[0m\u001b[0mrequest_id\u001b[0m\u001b[0;34m,\u001b[0m \u001b[0mtimeout_sec\u001b[0m\u001b[0;34m)\u001b[0m\u001b[0;34m\u001b[0m\u001b[0;34m\u001b[0m\u001b[0m\n\u001b[0m",
            "\u001b[0;32m/usr/local/lib/python3.7/dist-packages/google/colab/_message.py\u001b[0m in \u001b[0;36mread_reply_from_input\u001b[0;34m(message_id, timeout_sec)\u001b[0m\n\u001b[1;32m    100\u001b[0m         reply.get('colab_msg_id') == message_id):\n\u001b[1;32m    101\u001b[0m       \u001b[0;32mif\u001b[0m \u001b[0;34m'error'\u001b[0m \u001b[0;32min\u001b[0m \u001b[0mreply\u001b[0m\u001b[0;34m:\u001b[0m\u001b[0;34m\u001b[0m\u001b[0;34m\u001b[0m\u001b[0m\n\u001b[0;32m--> 102\u001b[0;31m         \u001b[0;32mraise\u001b[0m \u001b[0mMessageError\u001b[0m\u001b[0;34m(\u001b[0m\u001b[0mreply\u001b[0m\u001b[0;34m[\u001b[0m\u001b[0;34m'error'\u001b[0m\u001b[0;34m]\u001b[0m\u001b[0;34m)\u001b[0m\u001b[0;34m\u001b[0m\u001b[0;34m\u001b[0m\u001b[0m\n\u001b[0m\u001b[1;32m    103\u001b[0m       \u001b[0;32mreturn\u001b[0m \u001b[0mreply\u001b[0m\u001b[0;34m.\u001b[0m\u001b[0mget\u001b[0m\u001b[0;34m(\u001b[0m\u001b[0;34m'data'\u001b[0m\u001b[0;34m,\u001b[0m \u001b[0;32mNone\u001b[0m\u001b[0;34m)\u001b[0m\u001b[0;34m\u001b[0m\u001b[0;34m\u001b[0m\u001b[0m\n\u001b[1;32m    104\u001b[0m \u001b[0;34m\u001b[0m\u001b[0m\n",
            "\u001b[0;31mMessageError\u001b[0m: Error: credential propagation was unsuccessful"
          ]
        }
      ]
    },
    {
      "cell_type": "code",
      "source": [
        "def get_wordlist():\n",
        "  word_site = \"https://www.mit.edu/~ecprice/wordlist.10000\"\n",
        "  response = requests.get(word_site)\n",
        "  return response.content.splitlines()\n",
        "\n",
        "WORDS = get_wordlist()\n",
        "# ALPHAS = [':', '.'] # TODO: &\n",
        "ALPHAS = []\n",
        "\n",
        "def char_list():\n",
        "  return concatv(\n",
        "      string.ascii_letters,\n",
        "      string.digits,\n",
        "      ALPHAS\n",
        "  )\n",
        "\n",
        "def supported_chars(ttfont):\n",
        "  return pipe(\n",
        "    ttfont,\n",
        "    lambda f: f['cmap'].tables,\n",
        "    map(lambda x: x.cmap.items()),\n",
        "    merge,\n",
        "    lambda d: list(d.keys()),\n",
        "    filter(lambda char_code: chr(char_code) in char_list()),\n",
        "    list\n",
        "  )\n",
        "\n",
        "def is_supported(charset, font):\n",
        "  return set(\n",
        "      map(ord)(charset)\n",
        "    ).issubset(supported_chars(font))\n",
        "    \n",
        "def random_string_from_charset(charset):\n",
        "  return pipe(\n",
        "      range(random.randrange(5,15)),\n",
        "      map(lambda _: random.choice(charset)),\n",
        "      reduce(lambda a, b: str(a) + str(b)),\n",
        "  )\n",
        "\n",
        "def random_digits():\n",
        "  return random_string_from_charset(string.digits)\n",
        "\n",
        "def random_word():\n",
        "  return pipe(\n",
        "      WORDS,\n",
        "      random.choice,\n",
        "      lambda bs: bs.decode(\"utf-8\") \n",
        "  )\n",
        "\n",
        "# TODO: test curry\n",
        "def supported_filter(font):\n",
        "  def test(string):\n",
        "    return is_supported(string, font)\n",
        "  return test\n",
        "\n",
        "def sample_text(font):\n",
        "  return pipe([\n",
        "#      random_string_from_charset(list(string.digits) + ALPHAS),\n",
        "#      random_word(),\n",
        "      random_digits()\n",
        "    ],\n",
        "    filter(supported_filter(font)),\n",
        "    filter(supported_filter(font)),\n",
        "    list,\n",
        "    random.choice\n",
        "  )"
      ],
      "metadata": {
        "id": "z_Z9u87ecPAL"
      },
      "execution_count": 8,
      "outputs": []
    },
    {
      "cell_type": "code",
      "source": [
        "# TODO: unused\n",
        "def is_digits_supported(font):\n",
        "  return is_supported(string.digits, font)\n",
        "\n",
        "# TODO: unused\n",
        "def is_letters_supported(font):\n",
        "  return is_supported(string.ascii_letters, font)\n",
        "\n",
        "# TODO: unused\n",
        "def is_alphas_supported(font):\n",
        "  return is_supported(ALPHAS, font)\n",
        "\n",
        "# TODO: unused\n",
        "def random_gibberish(font):\n",
        "  return pipe(\n",
        "      range(random.randrange(5,15)),\n",
        "      map(lambda _: chr(random.choice(supported_chars(font)))),\n",
        "      reduce(lambda a, b: str(a) + str(b)),\n",
        "  )"
      ],
      "metadata": {
        "id": "IUrM2uqEoscZ"
      },
      "execution_count": null,
      "outputs": []
    },
    {
      "cell_type": "code",
      "source": [
        "def draw_sample(font_path):\n",
        "  word = sample_text(TTFont(font_path))\n",
        "  font = ImageFont.truetype(font_path, random.randrange(20, 34))\n",
        "  img = Image.new(\"RGBA\", (512,512),(255,255,255))\n",
        "  draw = ImageDraw.Draw(img)\n",
        "  xy = (random.randrange(5, 100), \n",
        "        random.randrange(10, 400))\n",
        "  draw.text(xy,word,(0,0,0),font=font)\n",
        "  draw = ImageDraw.Draw(img)\n",
        "  objects = []\n",
        "  for i, char in enumerate(word):\n",
        "    right, bottom = font.getsize(word[:i+1])\n",
        "    width, height = font.getmask(char).size\n",
        "    right += xy[0]\n",
        "    bottom += xy[1]\n",
        "    top = bottom - height\n",
        "    left = right - width\n",
        "#    draw.rectangle((left, top, right, bottom), None, '#f00')\n",
        "    objects.append({\n",
        "        'name': str(char),\n",
        "        'xmin': left,\n",
        "        'xmax': right,\n",
        "        'ymin': top,\n",
        "        'ymax': bottom\n",
        "    })\n",
        "  return {'img': img, 'text': word, 'font': font.getname(), 'objects': objects}\n",
        "\n",
        "def generate_data(fonts, sample_count=1):\n",
        "  return pipe(\n",
        "      fonts,\n",
        "      mapcat(lambda font: pipe(\n",
        "          range(sample_count),\n",
        "          map(lambda _: font),\n",
        "          map(draw_sample),\n",
        "      )),\n",
        "  )\n",
        "\n",
        "def get_font_path(filename):\n",
        "  return os.path.join(paths['fonts'], filename)\n",
        "\n",
        "font_paths = map(get_font_path)(os.listdir(paths['fonts']))\n",
        "\n",
        "#for d in generate_data(font_paths, 1):\n",
        "#  print(d['text'])\n",
        "#  print(d['font'])\n",
        "#  display(d['img'])"
      ],
      "metadata": {
        "id": "wJWZGgE63QXY"
      },
      "execution_count": 9,
      "outputs": []
    },
    {
      "cell_type": "code",
      "source": [
        "import xml.etree.cElementTree as ET\n",
        "from xml.dom import minidom\n",
        "\n",
        "def prettify(elem):\n",
        "    rough_string = ET.tostring(elem, 'utf-8')\n",
        "    reparsed = minidom.parseString(rough_string)\n",
        "    return reparsed.toprettyxml(indent=\"  \")\n",
        "\n",
        "def generate_xml_annotation(filename, im_width, im_height, bboxes):\n",
        "    try:\n",
        "        annotation = ET.Element('annotation')\n",
        "        ET.SubElement(annotation, 'filename').text = filename\n",
        "        size = ET.SubElement(annotation, 'size')\n",
        "        ET.SubElement(size, 'width').text = str(im_width)\n",
        "        ET.SubElement(size, 'height').text = str(im_height)\n",
        "        ET.SubElement(size, 'depth').text = '3'\n",
        "\n",
        "        for index, box in enumerate(bboxes):\n",
        "            objectBox = ET.SubElement(annotation, 'object')\n",
        "            ET.SubElement(objectBox, 'name').text = box['name']\n",
        "            ET.SubElement(objectBox, 'pose').text = 'Unspecified'\n",
        "            ET.SubElement(objectBox, 'truncated').text = '0'\n",
        "            ET.SubElement(objectBox, 'difficult').text = '0'\n",
        "            bndBox = ET.SubElement(objectBox, 'bndbox')\n",
        "            ET.SubElement(bndBox, 'xmin').text = str(box['xmin'])\n",
        "            ET.SubElement(bndBox, 'ymin').text = str(box['ymin'])\n",
        "            ET.SubElement(bndBox, 'xmax').text = str(box['xmax'])\n",
        "            ET.SubElement(bndBox, 'ymax').text = str(box['ymax'])\n",
        "\n",
        "        et = ET.ElementTree(annotation)\n",
        "        return prettify(annotation)\n",
        "    except Exception as e:\n",
        "        print('Error to generate the XML for image {}'.format(filename))\n",
        "        print(e)"
      ],
      "metadata": {
        "id": "qRIemHTOtyU5"
      },
      "execution_count": null,
      "outputs": []
    },
    {
      "cell_type": "code",
      "source": [
        "import uuid\n",
        "\n",
        "def random_id():\n",
        "  return str(uuid.uuid4())[:8]"
      ],
      "metadata": {
        "id": "awPH9R-zKNFg"
      },
      "execution_count": null,
      "outputs": []
    },
    {
      "cell_type": "code",
      "source": [
        "for d in generate_data([get_font_path('DSEG7Classic-BoldItalic.ttf')]):\n",
        "    display(d['img'])"
      ],
      "metadata": {
        "id": "KL_SDjipb-NP",
        "outputId": "07c91083-7de8-440a-d039-baa9f4e03c2c",
        "colab": {
          "base_uri": "https://localhost:8080/",
          "height": 529
        }
      },
      "execution_count": 14,
      "outputs": [
        {
          "output_type": "display_data",
          "data": {
            "text/plain": [
              "<PIL.Image.Image image mode=RGBA size=512x512 at 0x7FE8D6450C90>"
            ],
            "image/png": "[encoded data removed]"
          },
          "metadata": {}
        }
      ]
    },
    {
      "cell_type": "code",
      "source": [
        "def create_data_folder(base_path, size):\n",
        "  for i in tqdm(range(size)):\n",
        "    for d in generate_data([get_font_path('DSEG7Classic-BoldItalic.ttf')]):\n",
        "  #    display(d['img'])\n",
        "  #    print(d['text'])\n",
        "      filename = random_id()\n",
        "      path = os.path.join(base_path, filename) # TODO: create this path in drive\n",
        "      d['img'].save(f'{path}.png')\n",
        "      xml_string = generate_xml_annotation(f'{filename}.png', 512, 512, d['objects'])\n",
        "      with open(f'{path}.xml', 'w') as file:\n",
        "        file.write(xml_string)\n",
        "\n",
        "def train_test_size(n, ratio):\n",
        "  test = int(ratio * n)\n",
        "  train = n - test\n",
        "  return train, test\n",
        "\n",
        "train_size, test_size = train_test_size(100, 0.2)\n",
        "# TODO: create following paths in drive)\n",
        "create_data_folder(os.path.join('.', paths['ws_dataset'], 'train'), train_size)\n",
        "create_data_folder(os.path.join('.', paths['ws_dataset'], 'test'), test_size)\n"
      ],
      "metadata": {
        "id": "vT55k3QjNeje",
        "outputId": "9f41d3b8-2f90-4215-8633-a83158219158",
        "colab": {
          "base_uri": "https://localhost:8080/"
        }
      },
      "execution_count": null,
      "outputs": [
        {
          "output_type": "stream",
          "name": "stderr",
          "text": [
            "100%|██████████| 80/80 [00:03<00:00, 25.11it/s]\n",
            "100%|██████████| 20/20 [00:01<00:00, 16.25it/s]\n"
          ]
        }
      ]
    },
    {
      "cell_type": "code",
      "source": [],
      "metadata": {
        "id": "EBrkcJuROgFB"
      },
      "execution_count": null,
      "outputs": []
    }
  ]
}