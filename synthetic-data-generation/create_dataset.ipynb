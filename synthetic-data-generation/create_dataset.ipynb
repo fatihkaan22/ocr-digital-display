{
 "cells": [
  {
   "cell_type": "code",
   "execution_count": 2,
   "metadata": {
    "colab": {
     "base_uri": "https://localhost:8080/"
    },
    "id": "rpUVEaUufWZk",
    "outputId": "21f83dbd-0e93-4bbd-91ad-91f5e0eaa345"
   },
   "outputs": [
    {
     "name": "stdout",
     "output_type": "stream",
     "text": [
      "Looking in indexes: https://pypi.org/simple, https://us-python.pkg.dev/colab-wheels/public/simple/\n",
      "Collecting fonttools\n",
      "  Downloading fonttools-4.38.0-py3-none-any.whl (965 kB)\n",
      "\u001b[K     |████████████████████████████████| 965 kB 7.0 MB/s \n",
      "\u001b[?25hInstalling collected packages: fonttools\n",
      "Successfully installed fonttools-4.38.0\n"
     ]
    }
   ],
   "source": [
    "#! pip install fonttools"
   ]
  },
  {
   "cell_type": "code",
   "execution_count": 4,
   "metadata": {
    "id": "uzQr354gFQiX"
   },
   "outputs": [],
   "source": [
    "import os\n",
    "import random\n",
    "import string\n",
    "import PIL\n",
    "from PIL import ImageFont\n",
    "from PIL import Image\n",
    "from PIL import ImageDraw\n",
    "from tqdm import tqdm\n",
    "from io import BytesIO\n",
    "from toolz.curried import *\n",
    "import requests"
   ]
  },
  {
   "cell_type": "code",
   "execution_count": 5,
   "metadata": {
    "id": "DfeQWubxc1Q-"
   },
   "outputs": [],
   "source": [
    "from fontTools.ttLib import TTFont\n",
    "from fontTools.unicode import Unicode"
   ]
  },
  {
   "cell_type": "code",
   "execution_count": 6,
   "metadata": {
    "colab": {
     "base_uri": "https://localhost:8080/"
    },
    "id": "ryrGRRNBJ0Ub",
    "outputId": "6473d133-bfd1-44ca-b4e6-7f75db5a1732"
   },
   "outputs": [],
   "source": [
    "#! git clone https://github.com/fatihkaan22/ocr-digital-display/"
   ]
  },
  {
   "cell_type": "code",
   "execution_count": 8,
   "metadata": {
    "id": "4SZLcWPtFCFJ"
   },
   "outputs": [],
   "source": [
    "paths = {\n",
    "  'fonts': os.path.join('/home/jupyter/ocr-digital-display','synthetic-data-generation', 'fonts'),\n",
    "#  'drive_ws': os.path.join('drive', 'MyDrive', 'cse496', 'Tensorflow', 'workspace', 'synthetic-data-single-font'),\n",
    "#  'ws_dataset': os.path.join('drive', 'MyDrive', 'cse496', 'Tensorflow', 'workspace', 'synthetic-data-single-font', 'images'),\n",
    "}"
   ]
  },
  {
   "cell_type": "code",
   "execution_count": 9,
   "metadata": {
    "colab": {
     "base_uri": "https://localhost:8080/",
     "height": 332
    },
    "id": "0VAgxO-8OI7K",
    "outputId": "3191e904-062c-4b95-c0ab-ef5c5113e262"
   },
   "outputs": [],
   "source": [
    "#from google.colab import drive\n",
    "#drive.mount('/content/drive')"
   ]
  },
  {
   "cell_type": "code",
   "execution_count": 10,
   "metadata": {
    "id": "z_Z9u87ecPAL"
   },
   "outputs": [],
   "source": [
    "def get_wordlist():\n",
    "  word_site = \"https://www.mit.edu/~ecprice/wordlist.10000\"\n",
    "  response = requests.get(word_site)\n",
    "  return response.content.splitlines()\n",
    "\n",
    "WORDS = get_wordlist()\n",
    "# ALPHAS = [':', '.'] # TODO: &\n",
    "ALPHAS = []\n",
    "\n",
    "def char_list():\n",
    "  return concatv(\n",
    "      string.ascii_letters,\n",
    "      string.digits,\n",
    "      ALPHAS\n",
    "  )\n",
    "\n",
    "def supported_chars(ttfont):\n",
    "  return pipe(\n",
    "    ttfont,\n",
    "    lambda f: f['cmap'].tables,\n",
    "    map(lambda x: x.cmap.items()),\n",
    "    merge,\n",
    "    lambda d: list(d.keys()),\n",
    "    filter(lambda char_code: chr(char_code) in char_list()),\n",
    "    list\n",
    "  )\n",
    "\n",
    "def is_supported(charset, font):\n",
    "  return set(\n",
    "      map(ord)(charset)\n",
    "    ).issubset(supported_chars(font))\n",
    "    \n",
    "def random_string_from_charset(charset):\n",
    "  return pipe(\n",
    "      range(random.randrange(5,15)),\n",
    "      map(lambda _: random.choice(charset)),\n",
    "      reduce(lambda a, b: str(a) + str(b)),\n",
    "  )\n",
    "\n",
    "def random_digits():\n",
    "  return random_string_from_charset(string.digits)\n",
    "\n",
    "def random_word():\n",
    "  return pipe(\n",
    "      WORDS,\n",
    "      random.choice,\n",
    "      lambda bs: bs.decode(\"utf-8\") \n",
    "  )\n",
    "\n",
    "# TODO: test curry\n",
    "def supported_filter(font):\n",
    "  def test(string):\n",
    "    return is_supported(string, font)\n",
    "  return test\n",
    "\n",
    "def sample_text(font):\n",
    "  return pipe([\n",
    "#      random_string_from_charset(list(string.digits) + ALPHAS),\n",
    "#      random_word(),\n",
    "      random_digits()\n",
    "    ],\n",
    "    filter(supported_filter(font)),\n",
    "    filter(supported_filter(font)),\n",
    "    list,\n",
    "    random.choice\n",
    "  )"
   ]
  },
  {
   "cell_type": "code",
   "execution_count": 11,
   "metadata": {
    "id": "IUrM2uqEoscZ"
   },
   "outputs": [],
   "source": [
    "# TODO: unused\n",
    "def is_digits_supported(font):\n",
    "  return is_supported(string.digits, font)\n",
    "\n",
    "# TODO: unused\n",
    "def is_letters_supported(font):\n",
    "  return is_supported(string.ascii_letters, font)\n",
    "\n",
    "# TODO: unused\n",
    "def is_alphas_supported(font):\n",
    "  return is_supported(ALPHAS, font)\n",
    "\n",
    "# TODO: unused\n",
    "def random_gibberish(font):\n",
    "  return pipe(\n",
    "      range(random.randrange(5,15)),\n",
    "      map(lambda _: chr(random.choice(supported_chars(font)))),\n",
    "      reduce(lambda a, b: str(a) + str(b)),\n",
    "  )"
   ]
  },
  {
   "cell_type": "code",
   "execution_count": 18,
   "metadata": {
    "id": "wJWZGgE63QXY"
   },
   "outputs": [],
   "source": [
    "def draw_sample(font_path):\n",
    "  word = sample_text(TTFont(font_path))\n",
    "  font = ImageFont.truetype(font_path, random.randrange(20, 34))\n",
    "  img = Image.new(\"RGBA\", (512,512),(255,255,255))\n",
    "  draw = ImageDraw.Draw(img)\n",
    "  xy = (random.randrange(5, 100), \n",
    "        random.randrange(10, 400))\n",
    "  draw.text(xy,word,(0,0,0),font=font)\n",
    "  draw = ImageDraw.Draw(img)\n",
    "  objects = []\n",
    "  for i, char in enumerate(word):\n",
    "    right, bottom = font.getsize(word[:i+1])\n",
    "    width, height = font.getmask(char).size\n",
    "    right += xy[0]\n",
    "    bottom += xy[1]\n",
    "    top = bottom - height\n",
    "    left = right - width\n",
    "    print((left,right,top,bottom))\n",
    "    draw.rectangle((left, top, right, bottom), None, '#f00')\n",
    "    objects.append({\n",
    "        'name': str(char),\n",
    "        'xmin': left,\n",
    "        'xmax': right,\n",
    "        'ymin': top,\n",
    "        'ymax': bottom\n",
    "    })\n",
    "  return {'img': img, 'text': word, 'font': font.getname(), 'objects': objects}\n",
    "\n",
    "def generate_data(fonts, sample_count=1):\n",
    "  return pipe(\n",
    "      fonts,\n",
    "      mapcat(lambda font: pipe(\n",
    "          range(sample_count),\n",
    "          map(lambda _: font),\n",
    "          map(draw_sample),\n",
    "      )),\n",
    "  )\n",
    "\n",
    "def get_font_path(filename):\n",
    "  return os.path.join(paths['fonts'], filename)\n",
    "\n",
    "font_paths = map(get_font_path)(os.listdir(paths['fonts']))\n",
    "\n",
    "#for d in generate_data(font_paths, 1):\n",
    "#  print(d['text'])\n",
    "#  print(d['font'])\n",
    "#  display(d['img'])"
   ]
  },
  {
   "cell_type": "code",
   "execution_count": 19,
   "metadata": {
    "id": "qRIemHTOtyU5"
   },
   "outputs": [],
   "source": [
    "import xml.etree.cElementTree as ET\n",
    "from xml.dom import minidom\n",
    "\n",
    "def prettify(elem):\n",
    "    rough_string = ET.tostring(elem, 'utf-8')\n",
    "    reparsed = minidom.parseString(rough_string)\n",
    "    return reparsed.toprettyxml(indent=\"  \")\n",
    "\n",
    "def generate_xml_annotation(filename, im_width, im_height, bboxes):\n",
    "    try:\n",
    "        annotation = ET.Element('annotation')\n",
    "        ET.SubElement(annotation, 'filename').text = filename\n",
    "        size = ET.SubElement(annotation, 'size')\n",
    "        ET.SubElement(size, 'width').text = str(im_width)\n",
    "        ET.SubElement(size, 'height').text = str(im_height)\n",
    "        ET.SubElement(size, 'depth').text = '3'\n",
    "\n",
    "        for index, box in enumerate(bboxes):\n",
    "            objectBox = ET.SubElement(annotation, 'object')\n",
    "            ET.SubElement(objectBox, 'name').text = box['name']\n",
    "            ET.SubElement(objectBox, 'pose').text = 'Unspecified'\n",
    "            ET.SubElement(objectBox, 'truncated').text = '0'\n",
    "            ET.SubElement(objectBox, 'difficult').text = '0'\n",
    "            bndBox = ET.SubElement(objectBox, 'bndbox')\n",
    "            ET.SubElement(bndBox, 'xmin').text = str(box['xmin'])\n",
    "            ET.SubElement(bndBox, 'ymin').text = str(box['ymin'])\n",
    "            ET.SubElement(bndBox, 'xmax').text = str(box['xmax'])\n",
    "            ET.SubElement(bndBox, 'ymax').text = str(box['ymax'])\n",
    "\n",
    "        et = ET.ElementTree(annotation)\n",
    "        return prettify(annotation)\n",
    "    except Exception as e:\n",
    "        print('Error to generate the XML for image {}'.format(filename))\n",
    "        print(e)"
   ]
  },
  {
   "cell_type": "code",
   "execution_count": 20,
   "metadata": {
    "id": "awPH9R-zKNFg"
   },
   "outputs": [],
   "source": [
    "import uuid\n",
    "\n",
    "def random_id():\n",
    "  return str(uuid.uuid4())[:8]"
   ]
  },
  {
   "cell_type": "code",
   "execution_count": 21,
   "metadata": {
    "colab": {
     "base_uri": "https://localhost:8080/",
     "height": 529
    },
    "id": "KL_SDjipb-NP",
    "outputId": "07c91083-7de8-440a-d039-baa9f4e03c2c"
   },
   "outputs": [
    {
     "name": "stderr",
     "output_type": "stream",
     "text": [
      "/opt/conda/lib/python3.7/site-packages/ipykernel_launcher.py:12: DeprecationWarning: getsize is deprecated and will be removed in Pillow 10 (2023-07-01). Use getbbox or getlength instead.\n",
      "  if sys.path[0] == \"\":\n"
     ]
    },
    {
     "data": {
      "image/png": "[encoded data removed]",
      "text/plain": [
       "<PIL.Image.Image image mode=RGBA size=512x512>"
      ]
     },
     "metadata": {},
     "output_type": "display_data"
    }
   ],
   "source": [
    "for d in generate_data([get_font_path('DSEG7Classic-BoldItalic.ttf')]):\n",
    "    display(d['img'])"
   ]
  },
  {
   "cell_type": "code",
   "execution_count": null,
   "metadata": {
    "colab": {
     "base_uri": "https://localhost:8080/"
    },
    "id": "vT55k3QjNeje",
    "outputId": "9f41d3b8-2f90-4215-8633-a83158219158"
   },
   "outputs": [
    {
     "name": "stderr",
     "output_type": "stream",
     "text": [
      "100%|██████████| 80/80 [00:03<00:00, 25.11it/s]\n",
      "100%|██████████| 20/20 [00:01<00:00, 16.25it/s]\n"
     ]
    }
   ],
   "source": [
    "def create_data_folder(base_path, size):\n",
    "  for i in tqdm(range(size)):\n",
    "    for d in generate_data([get_font_path('DSEG7Classic-BoldItalic.ttf')]):\n",
    "  #    display(d['img'])\n",
    "  #    print(d['text'])\n",
    "      filename = random_id()\n",
    "      path = os.path.join(base_path, filename) # TODO: create this path in drive\n",
    "      d['img'].save(f'{path}.png')\n",
    "      xml_string = generate_xml_annotation(f'{filename}.png', 512, 512, d['objects'])\n",
    "      with open(f'{path}.xml', 'w') as file:\n",
    "        file.write(xml_string)\n",
    "\n",
    "def train_test_size(n, ratio):\n",
    "  test = int(ratio * n)\n",
    "  train = n - test\n",
    "  return train, test\n",
    "\n",
    "train_size, test_size = train_test_size(100, 0.2)\n",
    "# TODO: create following paths in drive)\n",
    "create_data_folder(os.path.join('.', paths['ws_dataset'], 'train'), train_size)\n",
    "create_data_folder(os.path.join('.', paths['ws_dataset'], 'test'), test_size)\n"
   ]
  },
  {
   "cell_type": "code",
   "execution_count": null,
   "metadata": {
    "id": "EBrkcJuROgFB"
   },
   "outputs": [],
   "source": []
  }
 ],
 "metadata": {
  "colab": {
   "provenance": []
  },
  "environment": {
   "kernel": "python3",
   "name": "tf2-gpu.2-8.m102",
   "type": "gcloud",
   "uri": "gcr.io/deeplearning-platform-release/tf2-gpu.2-8:m102"
  },
  "kernelspec": {
   "display_name": "Python 3 (ipykernel)",
   "language": "python",
   "name": "python3"
  },
  "language_info": {
   "codemirror_mode": {
    "name": "ipython",
    "version": 3
   },
   "file_extension": ".py",
   "mimetype": "text/x-python",
   "name": "python",
   "nbconvert_exporter": "python",
   "pygments_lexer": "ipython3",
   "version": "3.7.12"
  }
 },
 "nbformat": 4,
 "nbformat_minor": 4
}
