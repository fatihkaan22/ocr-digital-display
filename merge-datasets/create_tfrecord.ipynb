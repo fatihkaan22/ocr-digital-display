{
 "cells": [
  {
   "cell_type": "code",
   "execution_count": 4,
   "id": "44612be8-9e54-4012-8e85-8c6d4e5392ff",
   "metadata": {},
   "outputs": [],
   "source": [
    "import os\n",
    "\n",
    "TENSORFLOW='/home/jupyter/ocr-digital-display/tensorflow'\n",
    "paths = {\n",
    "  'labelmap': os.path.join(TENSORFLOW,'label_map.pbtxt'),\n",
    "  'scripts': os.path.join(TENSORFLOW,'scripts'),\n",
    "}"
   ]
  },
  {
   "cell_type": "code",
   "execution_count": 22,
   "id": "3952134a-af06-4f8f-b93e-9f92a9724a2b",
   "metadata": {},
   "outputs": [],
   "source": [
    "def tfrecord(path):\n",
    "    head, name = os.path.split(path)\n",
    "    return 'python {} -x {} -l {} -o {}'.format(\n",
    "      os.path.join(paths['scripts'], 'generate_tfrecord.py'),\n",
    "      os.path.join(path),\n",
    "      os.path.join(paths['labelmap']),\n",
    "      os.path.join(head, f'{name}.record'),\n",
    "    )"
   ]
  },
  {
   "cell_type": "code",
   "execution_count": 28,
   "id": "a95ff005-93d7-4ad8-8179-a48d18f7a838",
   "metadata": {},
   "outputs": [
    {
     "name": "stdout",
     "output_type": "stream",
     "text": [
      "Successfully created the TFRecord file: /home/jupyter/ds/phils-workspace_digits-coi4f/train.record\n"
     ]
    }
   ],
   "source": [
    "!{tfrecord('/home/jupyter/ds/phils-workspace_digits-coi4f/train')}"
   ]
  },
  {
   "cell_type": "code",
   "execution_count": 29,
   "id": "f3d4e143-d90d-494a-8c2a-2c720a6d0056",
   "metadata": {},
   "outputs": [
    {
     "name": "stdout",
     "output_type": "stream",
     "text": [
      "Successfully created the TFRecord file: /home/jupyter/ds/phils-workspace_digits-coi4f/test.record\n"
     ]
    }
   ],
   "source": [
    "!{tfrecord('/home/jupyter/ds/phils-workspace_digits-coi4f/test')}"
   ]
  },
  {
   "cell_type": "code",
   "execution_count": 37,
   "id": "09c11960-ce35-4e07-a29d-5d75879c69d9",
   "metadata": {},
   "outputs": [
    {
     "name": "stdout",
     "output_type": "stream",
     "text": [
      "Successfully created the TFRecord file: /home/jupyter/ds/energy-meter/train.record\n"
     ]
    }
   ],
   "source": [
    "!{tfrecord('/home/jupyter/ds/energy-meter/train')}"
   ]
  },
  {
   "cell_type": "code",
   "execution_count": 38,
   "id": "9487d6ed-ebb6-40bb-9def-6b0cf28ed61a",
   "metadata": {},
   "outputs": [
    {
     "name": "stdout",
     "output_type": "stream",
     "text": [
      "Successfully created the TFRecord file: /home/jupyter/ds/energy-meter/test.record\n"
     ]
    }
   ],
   "source": [
    "!{tfrecord('/home/jupyter/ds/energy-meter/test')}"
   ]
  },
  {
   "cell_type": "code",
   "execution_count": null,
   "id": "1978bf73-296c-4ffa-a383-b6c92c83de7f",
   "metadata": {},
   "outputs": [],
   "source": []
  }
 ],
 "metadata": {
  "environment": {
   "kernel": "python3",
   "name": "tf2-gpu.2-8.m102",
   "type": "gcloud",
   "uri": "gcr.io/deeplearning-platform-release/tf2-gpu.2-8:m102"
  },
  "kernelspec": {
   "display_name": "Python 3 (ipykernel)",
   "language": "python",
   "name": "python3"
  },
  "language_info": {
   "codemirror_mode": {
    "name": "ipython",
    "version": 3
   },
   "file_extension": ".py",
   "mimetype": "text/x-python",
   "name": "python",
   "nbconvert_exporter": "python",
   "pygments_lexer": "ipython3",
   "version": "3.7.12"
  }
 },
 "nbformat": 4,
 "nbformat_minor": 5
}
