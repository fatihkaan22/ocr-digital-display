{
 "cells": [
  {
   "cell_type": "code",
   "execution_count": 1,
   "id": "1143796c-a8af-4861-8f4d-8128661b3c7b",
   "metadata": {
    "tags": []
   },
   "outputs": [
    {
     "name": "stderr",
     "output_type": "stream",
     "text": [
      "2022-12-25 17:47:32.191734: I tensorflow/core/platform/cpu_feature_guard.cc:193] This TensorFlow binary is optimized with oneAPI Deep Neural Network Library (oneDNN) to use the following CPU instructions in performance-critical operations:  AVX2 FMA\n",
      "To enable them in other operations, rebuild TensorFlow with the appropriate compiler flags.\n",
      "2022-12-25 17:47:33.151194: W tensorflow/compiler/xla/stream_executor/platform/default/dso_loader.cc:64] Could not load dynamic library 'libnvinfer.so.7'; dlerror: libnvinfer.so.7: cannot open shared object file: No such file or directory; LD_LIBRARY_PATH: /usr/local/cuda/lib64:/usr/local/nccl2/lib:/usr/local/cuda/extras/CUPTI/lib64\n",
      "2022-12-25 17:47:33.151297: W tensorflow/compiler/xla/stream_executor/platform/default/dso_loader.cc:64] Could not load dynamic library 'libnvinfer_plugin.so.7'; dlerror: libnvinfer_plugin.so.7: cannot open shared object file: No such file or directory; LD_LIBRARY_PATH: /usr/local/cuda/lib64:/usr/local/nccl2/lib:/usr/local/cuda/extras/CUPTI/lib64\n",
      "2022-12-25 17:47:33.151308: W tensorflow/compiler/tf2tensorrt/utils/py_utils.cc:38] TF-TRT Warning: Cannot dlopen some TensorRT libraries. If you would like to use Nvidia GPU with TensorRT, please make sure the missing libraries mentioned above are installed properly.\n"
     ]
    }
   ],
   "source": [
    "from toolz.curried import *\n",
    "import os\n",
    "import tensorflow as tf"
   ]
  },
  {
   "cell_type": "code",
   "execution_count": 2,
   "id": "4be694c8-3afd-445a-b362-33cc409ad87a",
   "metadata": {},
   "outputs": [],
   "source": [
    "def get_merged_ds(base_path, split):\n",
    "    def merge(datasets):\n",
    "        return pipe(\n",
    "            datasets,\n",
    "            map(lambda d: os.path.join(base_path, d)),\n",
    "            map(lambda d: os.path.join(d, f'{split}.record')),\n",
    "            list,\n",
    "            tf.data.TFRecordDataset,\n",
    "            lambda tfrec: pipe(\n",
    "                tfrec,\n",
    "                lambda _: tf.data.experimental.TFRecordWriter(\n",
    "                    os.path.join(base_path, f'{split}.record')\n",
    "                ),\n",
    "                lambda writer: writer.write(tfrec)\n",
    "            )\n",
    "        )\n",
    "    return merge\n",
    "\n",
    "merge_train = get_merged_ds('/home/jupyter/ds','train')\n",
    "merge_test = get_merged_ds('/home/jupyter/ds','test')"
   ]
  },
  {
   "cell_type": "code",
   "execution_count": 4,
   "id": "32324c66-f366-4524-a020-4f4004d197ba",
   "metadata": {},
   "outputs": [],
   "source": [
    "ds = [\n",
    "    'energy-meter',\n",
    "    'phils-workspace_digits-coi4f',\n",
    "    'frani1999-do9am_7-segments-custom'\n",
    "]\n",
    "\n",
    "merge_train(ds)\n",
    "merge_test(ds)"
   ]
  },
  {
   "cell_type": "code",
   "execution_count": null,
   "id": "82caaa16-5d80-489f-aecc-6b7e2adcc868",
   "metadata": {},
   "outputs": [],
   "source": []
  }
 ],
 "metadata": {
  "environment": {
   "kernel": "python3",
   "name": "tf2-gpu.2-8.m102",
   "type": "gcloud",
   "uri": "gcr.io/deeplearning-platform-release/tf2-gpu.2-8:m102"
  },
  "kernelspec": {
   "display_name": "Python 3 (ipykernel)",
   "language": "python",
   "name": "python3"
  },
  "language_info": {
   "codemirror_mode": {
    "name": "ipython",
    "version": 3
   },
   "file_extension": ".py",
   "mimetype": "text/x-python",
   "name": "python",
   "nbconvert_exporter": "python",
   "pygments_lexer": "ipython3",
   "version": "3.7.12"
  }
 },
 "nbformat": 4,
 "nbformat_minor": 5
}
