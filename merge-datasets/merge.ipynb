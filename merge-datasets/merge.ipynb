{
 "cells": [
  {
   "cell_type": "code",
   "execution_count": 3,
   "id": "1143796c-a8af-4861-8f4d-8128661b3c7b",
   "metadata": {
    "tags": []
   },
   "outputs": [],
   "source": [
    "from toolz.curried import *\n",
    "import os\n",
    "import tensorflow as tf"
   ]
  },
  {
   "cell_type": "code",
   "execution_count": 4,
   "id": "4be694c8-3afd-445a-b362-33cc409ad87a",
   "metadata": {},
   "outputs": [],
   "source": [
    "def get_merged_ds(base_path, split):\n",
    "    def merge(datasets):\n",
    "        return pipe(\n",
    "            datasets,\n",
    "            map(lambda d: os.path.join(base_path, d)),\n",
    "            map(lambda d: os.path.join(d, f'{split}.record')),\n",
    "            list,\n",
    "            tf.data.TFRecordDataset,\n",
    "            lambda tfrec: pipe(\n",
    "                tfrec,\n",
    "                lambda _: tf.data.experimental.TFRecordWriter(\n",
    "                    os.path.join(base_path, f'{split}.record')\n",
    "                ),\n",
    "                lambda writer: writer.write(tfrec)\n",
    "            )\n",
    "        )\n",
    "    return merge\n",
    "\n",
    "merge_train = get_merged_ds('/home/jupyter/ds','train')\n",
    "merge_test = get_merged_ds('/home/jupyter/ds','test')"
   ]
  },
  {
   "cell_type": "code",
   "execution_count": 5,
   "id": "32324c66-f366-4524-a020-4f4004d197ba",
   "metadata": {},
   "outputs": [
    {
     "name": "stdout",
     "output_type": "stream",
     "text": [
      "WARNING:tensorflow:From /tmp/ipykernel_6858/1964944556.py:12: TFRecordWriter.__init__ (from tensorflow.python.data.experimental.ops.writers) is deprecated and will be removed in a future version.\n",
      "Instructions for updating:\n",
      "To write TFRecords to disk, use `tf.io.TFRecordWriter`. To save and load the contents of a dataset, use `tf.data.experimental.save` and `tf.data.experimental.load`\n"
     ]
    },
    {
     "name": "stderr",
     "output_type": "stream",
     "text": [
      "2023-01-14 18:06:33.779463: I tensorflow/compiler/xla/stream_executor/cuda/cuda_gpu_executor.cc:981] successful NUMA node read from SysFS had negative value (-1), but there must be at least one NUMA node, so returning NUMA node zero\n",
      "2023-01-14 18:06:33.792128: I tensorflow/compiler/xla/stream_executor/cuda/cuda_gpu_executor.cc:981] successful NUMA node read from SysFS had negative value (-1), but there must be at least one NUMA node, so returning NUMA node zero\n",
      "2023-01-14 18:06:33.793905: I tensorflow/compiler/xla/stream_executor/cuda/cuda_gpu_executor.cc:981] successful NUMA node read from SysFS had negative value (-1), but there must be at least one NUMA node, so returning NUMA node zero\n",
      "2023-01-14 18:06:33.796468: I tensorflow/core/platform/cpu_feature_guard.cc:193] This TensorFlow binary is optimized with oneAPI Deep Neural Network Library (oneDNN) to use the following CPU instructions in performance-critical operations:  AVX2 FMA\n",
      "To enable them in other operations, rebuild TensorFlow with the appropriate compiler flags.\n",
      "2023-01-14 18:06:33.797445: I tensorflow/compiler/xla/stream_executor/cuda/cuda_gpu_executor.cc:981] successful NUMA node read from SysFS had negative value (-1), but there must be at least one NUMA node, so returning NUMA node zero\n",
      "2023-01-14 18:06:33.799294: I tensorflow/compiler/xla/stream_executor/cuda/cuda_gpu_executor.cc:981] successful NUMA node read from SysFS had negative value (-1), but there must be at least one NUMA node, so returning NUMA node zero\n",
      "2023-01-14 18:06:33.801059: I tensorflow/compiler/xla/stream_executor/cuda/cuda_gpu_executor.cc:981] successful NUMA node read from SysFS had negative value (-1), but there must be at least one NUMA node, so returning NUMA node zero\n",
      "2023-01-14 18:06:34.716637: I tensorflow/compiler/xla/stream_executor/cuda/cuda_gpu_executor.cc:981] successful NUMA node read from SysFS had negative value (-1), but there must be at least one NUMA node, so returning NUMA node zero\n",
      "2023-01-14 18:06:34.718345: I tensorflow/compiler/xla/stream_executor/cuda/cuda_gpu_executor.cc:981] successful NUMA node read from SysFS had negative value (-1), but there must be at least one NUMA node, so returning NUMA node zero\n",
      "2023-01-14 18:06:34.719812: I tensorflow/compiler/xla/stream_executor/cuda/cuda_gpu_executor.cc:981] successful NUMA node read from SysFS had negative value (-1), but there must be at least one NUMA node, so returning NUMA node zero\n",
      "2023-01-14 18:06:34.721226: I tensorflow/core/common_runtime/gpu/gpu_device.cc:1613] Created device /job:localhost/replica:0/task:0/device:GPU:0 with 12 MB memory:  -> device: 0, name: Tesla T4, pci bus id: 0000:00:04.0, compute capability: 7.5\n"
     ]
    }
   ],
   "source": [
    "ds = [\n",
    "    'energy-meter',\n",
    "    'phils-workspace_digits-coi4f',\n",
    "    'frani1999-do9am_7-segments-custom',\n",
    "    'synthetic'\n",
    "]\n",
    "\n",
    "merge_train(ds)\n",
    "merge_test(ds)"
   ]
  },
  {
   "cell_type": "code",
   "execution_count": null,
   "id": "82caaa16-5d80-489f-aecc-6b7e2adcc868",
   "metadata": {},
   "outputs": [],
   "source": []
  }
 ],
 "metadata": {
  "environment": {
   "kernel": "python3",
   "name": "tf2-gpu.2-8.m102",
   "type": "gcloud",
   "uri": "gcr.io/deeplearning-platform-release/tf2-gpu.2-8:m102"
  },
  "kernelspec": {
   "display_name": "Python 3 (ipykernel)",
   "language": "python",
   "name": "python3"
  },
  "language_info": {
   "codemirror_mode": {
    "name": "ipython",
    "version": 3
   },
   "file_extension": ".py",
   "mimetype": "text/x-python",
   "name": "python",
   "nbconvert_exporter": "python",
   "pygments_lexer": "ipython3",
   "version": "3.7.12"
  }
 },
 "nbformat": 4,
 "nbformat_minor": 5
}
